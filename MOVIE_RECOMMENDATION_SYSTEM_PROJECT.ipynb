{
 "cells": [
  {
   "cell_type": "markdown",
   "metadata": {},
   "source": [
    "# MOVIE RECOMMENDATION SYSTEM PROJECT"
   ]
  },
  {
   "cell_type": "markdown",
   "metadata": {},
   "source": [
    "**This project aims to develop a recommendation system that provides personalized movie suggestions to users based on their past ratings. The goal is to predict and recommend the top 5 movies that a user is likely to enjoy. The project follows the CRISP-DM framework, involving data preprocessing, exploratory analysis, model selection, and evaluation to deliver accurate and meaningful recommendations.**"
   ]
  },
  {
   "cell_type": "markdown",
   "metadata": {},
   "source": [
    "## OVERVIEW\n",
    "\n",
    "In the modern entertainment industry, personalized content recommendations are essential for enhancing user experience and engagement. With the vast number of movies available across various streaming platforms, users often struggle to find content that aligns with their preferences. Effective recommendation systems can help users discover movies they are likely to enjoy, increasing user satisfaction and platform retention.\n",
    "\n",
    "Movie recommendation systems analyze user behavior, such as past ratings and interactions, to provide tailored suggestions. However, developing an accurate recommendation system poses challenges, including sparse user data, changing preferences, and the need to balance accuracy with diversity. Machine learning techniques, like collaborative filtering and content-based approaches, provide viable solutions to these challenges.\n",
    "\n",
    "To build a successful recommendation system, a structured approach involving data preprocessing and model selection is necessary. By leveraging insights from the model, streaming platforms can enhance user engagement, improve content discoverability, and drive business growth.\n",
    "\n",
    "\n",
    "**STAKEHOLDERS**\n",
    "\n",
    "The stakeholders for this project are a streaming platform aiming to enhance their services and retain viewers by offering personalized recommendations and improving content acquisition strategies. This project will help them achieve that, by analyzing user preferences, identifying popular genres, and optimizing recommendations to increase user engagement and satisfaction.\n",
    "\n",
    "\n",
    "\n",
    "**PROBLEM STATEMENT**\n",
    "\n",
    "Users often face difficulties in discovering movies that match their preferences due to the overwhelming number of choices available. This lack of personalized recommendations leads to lower user engagement and potential dissatisfaction with the platform.So, how can we improve user engagement and retention by providing personalized movie recommendations based on their past ratings?\n",
    "\n",
    "\n",
    "This project aims to develop a collaborative filtering-based recommendation system that provides personalized movie suggestions by analyzing a user's past ratings, thereby improving their overall experience and engagement.\n",
    "\n",
    "\n",
    "\n",
    "**OBJECTIVES**\n",
    "\n",
    "- Conduct thorough exploratory data analysis (EDA) to understand user preferences and rating trends.\n",
    "\n",
    "- Develop a recommendation system that provides personalized movie recommendations based on user ratings.\n",
    "\n",
    "- Implement collaborative filtering and content-based approaches to improve recommendation accuracy.\n",
    "\n",
    "- Evaluate the recommendation system using appropriate performance metrics to ensure relevance and accuracy.\n",
    "\n",
    "- Provide actionable insights to stakeholders to enhance user satisfaction and engagement strategies.\n",
    "\n",
    "\n",
    "\n",
    "**METRICS OF SUCCESS**\n",
    "\n",
    "To evaluate the effectiveness of the recommendation system, the following metrics will be used:\n",
    "\n",
    "- Precision: Measures the proportion of recommended movies in the top 5 results that are relevant to the user.\n",
    "\n",
    "- Mean Absolute Error (MAE): Quantifies the average magnitude of errors between predicted and actual ratings.\n",
    "\n",
    "- Root Mean Square Error (RMSE): Provides a measure of prediction accuracy by penalizing larger errors more heavily.\n",
    "\n",
    "\n",
    "\n",
    "These metrics will ensure the recommendation system is both accurate and effective in providing meaningful movie suggestions to users."
   ]
  },
  {
   "cell_type": "markdown",
   "metadata": {},
   "source": [
    "## DATA UNDERSTANDING\n",
    "\n",
    "This section explores the dataset's source, structure, and contents to ensure its relevance and credibility. We will examine the columns and rows to understand the variables and their significance for building the recommendation system.\n",
    "\n",
    "\n",
    "**DATA SOURCE:**\n",
    "\n",
    "The dataset used in this project is sourced from the GroupLens Research team, titled \"MovieLens Latest Small Dataset.\" It is a CSV-based dataset containing user ratings, movie information, and additional features relevant for building a recommendation system. You can access it here: [MovieLens Dataset](https://grouplens.org/datasets/movielens/latest/).\n",
    "\n",
    "The data are contained in the files `links.csv`, `movies.csv`, `ratings.csv` and `tags.csv`.\n",
    "\n",
    "\n",
    "Only movies with at least one rating or tag are included in the dataset. Movie ids are consistent between `ratings.csv`, `tags.csv`, `movies.csv`, and `links.csv` (i.e., the same id refers to the same movie across these four data files).\n",
    "\n",
    "\n",
    "All ratings are contained in the file `ratings.csv`. Ratings are made on a 5-star scale, with half-star increments (0.5 stars - 5.0 stars).\n",
    "\n",
    "Timestamps represent seconds since midnight Coordinated Universal Time (UTC) of January 1, 1970.\n",
    "\n",
    "\n",
    "Movie information is contained in the file `movies.csv`. Movie titles include the year of release in parentheses. Errors and inconsistencies may exist in these titles."
   ]
  },
  {
   "cell_type": "markdown",
   "metadata": {},
   "source": [
    "### UNDERSTANDING ROWS & COLUMNS IN THE DATASET"
   ]
  },
  {
   "cell_type": "code",
   "execution_count": 1,
   "metadata": {},
   "outputs": [],
   "source": [
    "#Import the libraries needed for this section\n",
    "import pandas as pd\n",
    "import numpy as np\n",
    "import matplotlib.pyplot as plt\n",
    "import seaborn as sns\n",
    "sns.set_style(\"darkgrid\")\n",
    "%matplotlib inline"
   ]
  },
  {
   "cell_type": "markdown",
   "metadata": {},
   "source": [
    "To focus more on the OOP strategy and less on procedural code we created classes that loads the data from all the datasets, check the general information of the data, the shape of the dataset, and prints out the first 5 rows for preview."
   ]
  },
  {
   "cell_type": "code",
   "execution_count": 2,
   "metadata": {},
   "outputs": [
    {
     "name": "stdout",
     "output_type": "stream",
     "text": [
      "links dataset: (9742, 3)\n",
      "movies dataset: (9742, 3)\n",
      "ratings dataset: (100836, 4)\n",
      "tags dataset: (3683, 4)\n",
      "\n",
      "Dataset: links\n",
      "<class 'pandas.core.frame.DataFrame'>\n",
      "RangeIndex: 9742 entries, 0 to 9741\n",
      "Data columns (total 3 columns):\n",
      " #   Column   Non-Null Count  Dtype  \n",
      "---  ------   --------------  -----  \n",
      " 0   movieId  9742 non-null   int64  \n",
      " 1   imdbId   9742 non-null   int64  \n",
      " 2   tmdbId   9734 non-null   float64\n",
      "dtypes: float64(1), int64(2)\n",
      "memory usage: 228.5 KB\n",
      "None\n",
      "\n",
      "Dataset: movies\n",
      "<class 'pandas.core.frame.DataFrame'>\n",
      "RangeIndex: 9742 entries, 0 to 9741\n",
      "Data columns (total 3 columns):\n",
      " #   Column   Non-Null Count  Dtype \n",
      "---  ------   --------------  ----- \n",
      " 0   movieId  9742 non-null   int64 \n",
      " 1   title    9742 non-null   object\n",
      " 2   genres   9742 non-null   object\n",
      "dtypes: int64(1), object(2)\n",
      "memory usage: 228.5+ KB\n",
      "None\n",
      "\n",
      "Dataset: ratings\n",
      "<class 'pandas.core.frame.DataFrame'>\n",
      "RangeIndex: 100836 entries, 0 to 100835\n",
      "Data columns (total 4 columns):\n",
      " #   Column     Non-Null Count   Dtype  \n",
      "---  ------     --------------   -----  \n",
      " 0   userId     100836 non-null  int64  \n",
      " 1   movieId    100836 non-null  int64  \n",
      " 2   rating     100836 non-null  float64\n",
      " 3   timestamp  100836 non-null  int64  \n",
      "dtypes: float64(1), int64(3)\n",
      "memory usage: 3.1 MB\n",
      "None\n",
      "\n",
      "Dataset: tags\n",
      "<class 'pandas.core.frame.DataFrame'>\n",
      "RangeIndex: 3683 entries, 0 to 3682\n",
      "Data columns (total 4 columns):\n",
      " #   Column     Non-Null Count  Dtype \n",
      "---  ------     --------------  ----- \n",
      " 0   userId     3683 non-null   int64 \n",
      " 1   movieId    3683 non-null   int64 \n",
      " 2   tag        3683 non-null   object\n",
      " 3   timestamp  3683 non-null   int64 \n",
      "dtypes: int64(3), object(1)\n",
      "memory usage: 115.2+ KB\n",
      "None\n",
      "\n",
      "A preview of 'links' dataset:\n",
      "   movieId  imdbId   tmdbId\n",
      "0        1  114709    862.0\n",
      "1        2  113497   8844.0\n",
      "2        3  113228  15602.0\n",
      "3        4  114885  31357.0\n",
      "4        5  113041  11862.0\n",
      "\n",
      "A preview of 'movies' dataset:\n",
      "   movieId                               title  \\\n",
      "0        1                    Toy Story (1995)   \n",
      "1        2                      Jumanji (1995)   \n",
      "2        3             Grumpier Old Men (1995)   \n",
      "3        4            Waiting to Exhale (1995)   \n",
      "4        5  Father of the Bride Part II (1995)   \n",
      "\n",
      "                                        genres  \n",
      "0  Adventure|Animation|Children|Comedy|Fantasy  \n",
      "1                   Adventure|Children|Fantasy  \n",
      "2                               Comedy|Romance  \n",
      "3                         Comedy|Drama|Romance  \n",
      "4                                       Comedy  \n",
      "\n",
      "A preview of 'ratings' dataset:\n",
      "   userId  movieId  rating  timestamp\n",
      "0       1        1     4.0  964982703\n",
      "1       1        3     4.0  964981247\n",
      "2       1        6     4.0  964982224\n",
      "3       1       47     5.0  964983815\n",
      "4       1       50     5.0  964982931\n",
      "\n",
      "A preview of 'tags' dataset:\n",
      "   userId  movieId              tag   timestamp\n",
      "0       2    60756            funny  1445714994\n",
      "1       2    60756  Highly quotable  1445714996\n",
      "2       2    60756     will ferrell  1445714992\n",
      "3       2    89774     Boxing story  1445715207\n",
      "4       2    89774              MMA  1445715200\n"
     ]
    }
   ],
   "source": [
    "# LOAD THE DATASETS, GET THE SHAPE OF THE DATASET, GET MORE INFO ON THE DATASETS, AND VIEW THE FIRST FEW ROWS OF THE DATASET.\n",
    "# CREATE A CLASS TO PERFORM THIS FOR ALL THR PROVIDED DATASETS(OOP)\n",
    "\n",
    "class DataLoader:\n",
    "    def __init__(self, file_paths):\n",
    "        #Initialize with a dictionary of dataset names and file paths\n",
    "        self.file_paths = file_paths\n",
    "        #Create empty dict. that'll store the dataframes when loaded\n",
    "        self.dataframes = {}\n",
    "\n",
    "    \n",
    "    def data_shape(self):\n",
    "        #Load all datasets and store them in a dictionary\n",
    "        for name, path in self.file_paths.items():\n",
    "            self.dataframes[name] = pd.read_csv(path)\n",
    "            print(f\"{name} dataset: {self.dataframes[name].shape}\")\n",
    "\n",
    "    def info(self):\n",
    "        #Print the general info for all the loaded datasets\n",
    "        for name, df in self.dataframes.items():\n",
    "            print(f\"\\nDataset: {name}\")\n",
    "            print(df.info())\n",
    "\n",
    "    def preview(self, rows=5):\n",
    "        #Preview the first few rows of each dataset\n",
    "        for name, df in self.dataframes.items():\n",
    "            print(f\"\\nA preview of '{name}' dataset:\")\n",
    "            print(df.head(rows))\n",
    "\n",
    "\n",
    "\n",
    "            \n",
    "# provide the paths to the datasets\n",
    "file_paths = {\n",
    "    \"links\": \"links.csv\",\n",
    "    \"movies\": \"movies.csv\",\n",
    "    \"ratings\": \"ratings.csv\",\n",
    "    \"tags\": \"tags.csv\"}\n",
    "\n",
    "\n",
    "\n",
    "data_loader = DataLoader(file_paths)\n",
    "data_loader.data_shape()\n",
    "data_loader.info()\n",
    "data_loader.preview()\n"
   ]
  },
  {
   "cell_type": "markdown",
   "metadata": {},
   "source": [
    "From the output above; \n",
    "- The links dataset and movies dataset have 9742 rows and 3 columns. \n",
    "- The ratings dataset has 100836 rows and 4 columns. \n",
    "- The tags dataset has 3683 rows and 4columns. "
   ]
  },
  {
   "cell_type": "markdown",
   "metadata": {},
   "source": [
    "## DATA PREPARATION (and analysis)"
   ]
  },
  {
   "cell_type": "markdown",
   "metadata": {},
   "source": [
    "### MERGING THE DATASETS "
   ]
  },
  {
   "cell_type": "code",
   "execution_count": 3,
   "metadata": {},
   "outputs": [],
   "source": [
    "#CREATE DATAFRAMES FOR ALL THE DATASETS.\n",
    "links_df = pd.read_csv('links.csv')\n",
    "movies_df = pd.read_csv('movies.csv')\n",
    "ratings_df = pd.read_csv('ratings.csv')\n",
    "tags_df = pd.read_csv('tags.csv')"
   ]
  },
  {
   "cell_type": "markdown",
   "metadata": {},
   "source": [
    "The goal of this project is to create a personalized movie recommendation system that provides movie suggestions to users based on **their past ratings**. For this reasson, **ratings** is considered the primary dataset, as it contains the **user-movie interaction** and **user-specific information (userId, movieId, rating, and timestamp)** data that's essential for building recommendations. \n",
    "\n",
    "\n",
    "The other datasets (movies, tags, and links) will be considered supplementary and will be merged with the primary dataset to enhance the recommendation system with their information.\n",
    "\n",
    "\n",
    "**movies**: Contains metadata about movies e.g., titles and genres.\n",
    "\n",
    "\n",
    "**tags**: Contains user-assigned tags for certain movies. However, this data is sparse.\n",
    "\n",
    "\n",
    "**links**: Links movies to external databases like IMDb. Although this would be useful for adding external information, it might not be necessary for this recommendation system."
   ]
  },
  {
   "cell_type": "code",
   "execution_count": 4,
   "metadata": {},
   "outputs": [],
   "source": [
    "# Merge the dataframes\n",
    "ratings_merged_df = ratings_df.merge(movies_df, on=\"movieId\", how=\"left\")\n",
    "ratings_merged_df = ratings_merged_df.merge(tags_df, on=[\"movieId\", \"userId\"], how=\"left\")"
   ]
  },
  {
   "cell_type": "code",
   "execution_count": 5,
   "metadata": {},
   "outputs": [],
   "source": [
    "# drop one 'timestamp' column since the 'ratings' and 'tags' dataframes have the same column\n",
    "ratings_merged_df = ratings_merged_df.drop(columns=['timestamp_y']).rename(columns={'timestamp_x': 'timestamp'})"
   ]
  },
  {
   "cell_type": "markdown",
   "metadata": {},
   "source": [
    "- **ratings_df** is the primary dataset and it's *enriched* (by merging) with the other datasets.\n",
    "\n",
    "\n",
    "- Merged **movies_df** with **ratings_df** using a left join to keep all rows from **ratings_df(our primary)** and supplemented it with **movies_df** metadata like **titles and genres**. ratings_df and movies_df share a common key (movieId).\n",
    "\n",
    "\n",
    "- Further improvement is made on the primary dataset with the **tags_df**. However, since tags dataset is sparse compared to the other datasets, it'll introduce many missing values to the primary dataframe.\n",
    "\n",
    "\n",
    "- When merging, **links_df** isn't added to the primary dataset (ratings_df). This is because this dataset simply contains **identifiers that can be used to link to other  external sources of movie data (like imdb and tmdb)** therefore this dataset wasn't considered directly useful for building recommendations. If external data is needed later (e.g., IMDb ratings), merging will be performed at that stage."
   ]
  },
  {
   "cell_type": "code",
   "execution_count": 6,
   "metadata": {},
   "outputs": [
    {
     "name": "stdout",
     "output_type": "stream",
     "text": [
      "<class 'pandas.core.frame.DataFrame'>\n",
      "Int64Index: 102677 entries, 0 to 102676\n",
      "Data columns (total 7 columns):\n",
      " #   Column     Non-Null Count   Dtype  \n",
      "---  ------     --------------   -----  \n",
      " 0   userId     102677 non-null  int64  \n",
      " 1   movieId    102677 non-null  int64  \n",
      " 2   rating     102677 non-null  float64\n",
      " 3   timestamp  102677 non-null  int64  \n",
      " 4   title      102677 non-null  object \n",
      " 5   genres     102677 non-null  object \n",
      " 6   tag        3476 non-null    object \n",
      "dtypes: float64(1), int64(3), object(3)\n",
      "memory usage: 6.3+ MB\n",
      "None\n",
      "\n",
      "\n",
      "The shape of the dataframe:\n",
      "(102677, 7)\n"
     ]
    }
   ],
   "source": [
    "#checking the general info. and shape of our latest dataframe\n",
    "print(ratings_merged_df.info())\n",
    "print('\\n')\n",
    "print(f\"The shape of the dataframe:\\n{ratings_merged_df.shape}\")"
   ]
  },
  {
   "cell_type": "markdown",
   "metadata": {},
   "source": [
    "From the output above the primary dataset now has 7 columns and 102, 677 rows. "
   ]
  },
  {
   "cell_type": "code",
   "execution_count": 7,
   "metadata": {},
   "outputs": [
    {
     "data": {
      "text/plain": [
       "userId           0\n",
       "movieId          0\n",
       "rating           0\n",
       "timestamp        0\n",
       "title            0\n",
       "genres           0\n",
       "tag          99201\n",
       "dtype: int64"
      ]
     },
     "execution_count": 7,
     "metadata": {},
     "output_type": "execute_result"
    }
   ],
   "source": [
    "#check for missing values in the primary dataframe\n",
    "ratings_merged_df.isnull().sum()"
   ]
  },
  {
   "cell_type": "code",
   "execution_count": 8,
   "metadata": {},
   "outputs": [
    {
     "name": "stdout",
     "output_type": "stream",
     "text": [
      "userId        0.000000\n",
      "movieId       0.000000\n",
      "rating        0.000000\n",
      "timestamp     0.000000\n",
      "title         0.000000\n",
      "genres        0.000000\n",
      "tag          96.614626\n",
      "dtype: float64\n"
     ]
    }
   ],
   "source": [
    "#check percentage of missing values in the dataset\n",
    "missing_percentage = (ratings_merged_df.isnull().sum() / len(ratings_merged_df)) * 100\n",
    "print(missing_percentage)"
   ]
  },
  {
   "cell_type": "markdown",
   "metadata": {},
   "source": [
    "As seen, the tags column is missing **96%** of its data. For this reason, merging was only performed on the **ratings_df** and **movies_df** to create a primary dataset, as these two datasets carry the most relevant information critical for builidng the recommendation system. "
   ]
  },
  {
   "cell_type": "code",
   "execution_count": 9,
   "metadata": {},
   "outputs": [],
   "source": [
    "#merge the ratings_df and movies_df\n",
    "data = ratings_df.merge(movies_df, on=\"movieId\", how=\"left\")"
   ]
  },
  {
   "cell_type": "code",
   "execution_count": 10,
   "metadata": {},
   "outputs": [
    {
     "name": "stdout",
     "output_type": "stream",
     "text": [
      "<class 'pandas.core.frame.DataFrame'>\n",
      "Int64Index: 100836 entries, 0 to 100835\n",
      "Data columns (total 6 columns):\n",
      " #   Column     Non-Null Count   Dtype  \n",
      "---  ------     --------------   -----  \n",
      " 0   userId     100836 non-null  int64  \n",
      " 1   movieId    100836 non-null  int64  \n",
      " 2   rating     100836 non-null  float64\n",
      " 3   timestamp  100836 non-null  int64  \n",
      " 4   title      100836 non-null  object \n",
      " 5   genres     100836 non-null  object \n",
      "dtypes: float64(1), int64(3), object(2)\n",
      "memory usage: 5.4+ MB\n",
      "None\n",
      "\n",
      "\n",
      "(100836, 6)\n"
     ]
    }
   ],
   "source": [
    "#preview and inspect this df\n",
    "print(data.info())\n",
    "print('\\n')\n",
    "print(data.shape)"
   ]
  },
  {
   "cell_type": "code",
   "execution_count": 11,
   "metadata": {},
   "outputs": [
    {
     "data": {
      "text/html": [
       "<div>\n",
       "<style scoped>\n",
       "    .dataframe tbody tr th:only-of-type {\n",
       "        vertical-align: middle;\n",
       "    }\n",
       "\n",
       "    .dataframe tbody tr th {\n",
       "        vertical-align: top;\n",
       "    }\n",
       "\n",
       "    .dataframe thead th {\n",
       "        text-align: right;\n",
       "    }\n",
       "</style>\n",
       "<table border=\"1\" class=\"dataframe\">\n",
       "  <thead>\n",
       "    <tr style=\"text-align: right;\">\n",
       "      <th></th>\n",
       "      <th>userId</th>\n",
       "      <th>movieId</th>\n",
       "      <th>rating</th>\n",
       "      <th>timestamp</th>\n",
       "      <th>title</th>\n",
       "      <th>genres</th>\n",
       "    </tr>\n",
       "  </thead>\n",
       "  <tbody>\n",
       "    <tr>\n",
       "      <th>0</th>\n",
       "      <td>1</td>\n",
       "      <td>1</td>\n",
       "      <td>4.0</td>\n",
       "      <td>964982703</td>\n",
       "      <td>Toy Story (1995)</td>\n",
       "      <td>Adventure|Animation|Children|Comedy|Fantasy</td>\n",
       "    </tr>\n",
       "    <tr>\n",
       "      <th>1</th>\n",
       "      <td>1</td>\n",
       "      <td>3</td>\n",
       "      <td>4.0</td>\n",
       "      <td>964981247</td>\n",
       "      <td>Grumpier Old Men (1995)</td>\n",
       "      <td>Comedy|Romance</td>\n",
       "    </tr>\n",
       "    <tr>\n",
       "      <th>2</th>\n",
       "      <td>1</td>\n",
       "      <td>6</td>\n",
       "      <td>4.0</td>\n",
       "      <td>964982224</td>\n",
       "      <td>Heat (1995)</td>\n",
       "      <td>Action|Crime|Thriller</td>\n",
       "    </tr>\n",
       "    <tr>\n",
       "      <th>3</th>\n",
       "      <td>1</td>\n",
       "      <td>47</td>\n",
       "      <td>5.0</td>\n",
       "      <td>964983815</td>\n",
       "      <td>Seven (a.k.a. Se7en) (1995)</td>\n",
       "      <td>Mystery|Thriller</td>\n",
       "    </tr>\n",
       "    <tr>\n",
       "      <th>4</th>\n",
       "      <td>1</td>\n",
       "      <td>50</td>\n",
       "      <td>5.0</td>\n",
       "      <td>964982931</td>\n",
       "      <td>Usual Suspects, The (1995)</td>\n",
       "      <td>Crime|Mystery|Thriller</td>\n",
       "    </tr>\n",
       "  </tbody>\n",
       "</table>\n",
       "</div>"
      ],
      "text/plain": [
       "   userId  movieId  rating  timestamp                        title  \\\n",
       "0       1        1     4.0  964982703             Toy Story (1995)   \n",
       "1       1        3     4.0  964981247      Grumpier Old Men (1995)   \n",
       "2       1        6     4.0  964982224                  Heat (1995)   \n",
       "3       1       47     5.0  964983815  Seven (a.k.a. Se7en) (1995)   \n",
       "4       1       50     5.0  964982931   Usual Suspects, The (1995)   \n",
       "\n",
       "                                        genres  \n",
       "0  Adventure|Animation|Children|Comedy|Fantasy  \n",
       "1                               Comedy|Romance  \n",
       "2                        Action|Crime|Thriller  \n",
       "3                             Mystery|Thriller  \n",
       "4                       Crime|Mystery|Thriller  "
      ]
     },
     "execution_count": 11,
     "metadata": {},
     "output_type": "execute_result"
    }
   ],
   "source": [
    "data.head()"
   ]
  },
  {
   "cell_type": "markdown",
   "metadata": {},
   "source": [
    "### CHECKING FOR MISSING VALUES, DUPLICATES, AND OUTLIERS IN THE DATASET"
   ]
  },
  {
   "cell_type": "markdown",
   "metadata": {},
   "source": [
    "#### MISSING VALUES"
   ]
  },
  {
   "cell_type": "code",
   "execution_count": 12,
   "metadata": {},
   "outputs": [
    {
     "data": {
      "text/plain": [
       "userId       0\n",
       "movieId      0\n",
       "rating       0\n",
       "timestamp    0\n",
       "title        0\n",
       "genres       0\n",
       "dtype: int64"
      ]
     },
     "execution_count": 12,
     "metadata": {},
     "output_type": "execute_result"
    }
   ],
   "source": [
    "#missing values \n",
    "data.isnull().sum()"
   ]
  },
  {
   "cell_type": "markdown",
   "metadata": {},
   "source": [
    "This dataset has no missing values"
   ]
  },
  {
   "cell_type": "markdown",
   "metadata": {},
   "source": [
    "#### DUPLICATES"
   ]
  },
  {
   "cell_type": "code",
   "execution_count": 13,
   "metadata": {},
   "outputs": [
    {
     "data": {
      "text/plain": [
       "0"
      ]
     },
     "execution_count": 13,
     "metadata": {},
     "output_type": "execute_result"
    }
   ],
   "source": [
    "#duplicates\n",
    "data.duplicated().sum()"
   ]
  },
  {
   "cell_type": "markdown",
   "metadata": {},
   "source": [
    "The dataset has no duplicates."
   ]
  },
  {
   "cell_type": "markdown",
   "metadata": {},
   "source": [
    "#### OUTLIERS"
   ]
  },
  {
   "cell_type": "markdown",
   "metadata": {},
   "source": [
    "Since the dataset contains both numerical and categorical columns (Ids were considered categorical), outliers are checked systematically below.\n",
    "\n",
    "According to the data understanding section, **ratings** in this dataset are bound within 0 to 5 stars with 0.5 increments. Outliers in this case are values outside this range. So, ratings outside this expected range (0 or above 5) are checked for."
   ]
  },
  {
   "cell_type": "code",
   "execution_count": 14,
   "metadata": {},
   "outputs": [
    {
     "name": "stdout",
     "output_type": "stream",
     "text": [
      "count    100836.000000\n",
      "mean          3.501557\n",
      "std           1.042529\n",
      "min           0.500000\n",
      "25%           3.000000\n",
      "50%           3.500000\n",
      "75%           4.000000\n",
      "max           5.000000\n",
      "Name: rating, dtype: float64\n"
     ]
    }
   ],
   "source": [
    "#checking outliers in the 'ratings' column with statiscal summary\n",
    "print(data['rating'].describe())"
   ]
  },
  {
   "cell_type": "markdown",
   "metadata": {},
   "source": [
    "Checked the outliers using summary statistics, looking out for values outside the expected range of 0 and 5. As seen, the min value is the expected 0.5 and max value 5.0"
   ]
  },
  {
   "cell_type": "code",
   "execution_count": 15,
   "metadata": {},
   "outputs": [
    {
     "data": {
      "image/png": "[encoded data removed]",
      "text/plain": [
       "<Figure size 864x576 with 1 Axes>"
      ]
     },
     "metadata": {
      "needs_background": "light"
     },
     "output_type": "display_data"
    }
   ],
   "source": [
    "#visually check for outliers in the 'ratings' column\n",
    "plt.figure(figsize=(12,8))\n",
    "sns.boxplot(x=data['rating'])\n",
    "plt.title('RATING DISTRIBUTION', fontsize=18)\n",
    "plt.xlabel('RATING', fontsize= 14)\n",
    "plt.show()"
   ]
  },
  {
   "cell_type": "markdown",
   "metadata": {},
   "source": [
    "Visualized the outliers with a box plot. As seen, there are some points outside the boxplot's whsikers."
   ]
  },
  {
   "cell_type": "code",
   "execution_count": 16,
   "metadata": {},
   "outputs": [
    {
     "name": "stdout",
     "output_type": "stream",
     "text": [
      "        userId  movieId  rating   timestamp  \\\n",
      "205          1     3176     1.0   964983504   \n",
      "261          3       31     0.5  1306463578   \n",
      "262          3      527     0.5  1306464275   \n",
      "263          3      647     0.5  1306463619   \n",
      "264          3      688     0.5  1306464228   \n",
      "...        ...      ...     ...         ...   \n",
      "100374     610    68319     1.0  1493845505   \n",
      "100415     610    72424     0.5  1493849030   \n",
      "100426     610    74075     1.0  1493848880   \n",
      "100734     610   120635     1.0  1493850489   \n",
      "100797     610   145951     0.5  1493849019   \n",
      "\n",
      "                                     title                       genres  \n",
      "205        Talented Mr. Ripley, The (1999)       Drama|Mystery|Thriller  \n",
      "261                 Dangerous Minds (1995)                        Drama  \n",
      "262                Schindler's List (1993)                    Drama|War  \n",
      "263              Courage Under Fire (1996)       Action|Crime|Drama|War  \n",
      "264            Operation Dumbo Drop (1995)  Action|Adventure|Comedy|War  \n",
      "...                                    ...                          ...  \n",
      "100374     X-Men Origins: Wolverine (2009)       Action|Sci-Fi|Thriller  \n",
      "100415                     Derailed (2002)              Action|Thriller  \n",
      "100426                 Stan Helsing (2009)                Comedy|Horror  \n",
      "100734                      Taken 3 (2015)        Action|Crime|Thriller  \n",
      "100797  Bloodsport: The Dark Kumite (1999)              Action|Thriller  \n",
      "\n",
      "[4181 rows x 6 columns]\n"
     ]
    }
   ],
   "source": [
    "# confirm the outliers with the interquartile range method\n",
    "Q1 = data['rating'].quantile(0.25)\n",
    "Q3 = data['rating'].quantile(0.75)\n",
    "IQR = Q3 - Q1\n",
    "\n",
    "lower_bound = Q1 - 1.5 * IQR\n",
    "upper_bound = Q3 + 1.5 * IQR\n",
    "\n",
    "# check for outliers; values outside the expected range or rare values\n",
    "outliers = data[(data['rating'] < lower_bound) | (data['rating'] > upper_bound)]\n",
    "print(outliers)"
   ]
  },
  {
   "cell_type": "markdown",
   "metadata": {},
   "source": [
    "#### DEALING WITH OUTLIERS IN 'ratings' COLUMN\n",
    "\n",
    "Since the boxplot uses the IQR method to identify potential outliers, it classified some values as outliers even if they're **valid and within the expected range** of the data. This is because ratings like 0.5 and 1, although valid, occured **infrequently or rarely compared to the rest of the ratings**. As seen in the statistical summary, most ratings cluster around higher values like 3, 4, or 5. Therefore, the lower ratings like 0.5 or 1 fell outside the lower whisker and thus were flagged as outliers.\n",
    "\n",
    "The statistical summary approach simply showed the range of values (minimum and maximum). And as seen earlier, the summary indicated that all ratings fall within the exepected range. This approach doesn't determine whether a value is \"unusual\" or \"rare\", it only identified the absolute boundaries.\n",
    "\n",
    "\n",
    "**In this case being flagged as an outlier doesn't mean the value is incorrect; it means it's unusual/rare compared to the rest of the data**. In the context of these ratings, low values like 0.5 or 1 just indicate genuine low ratings from users.\n",
    "\n",
    "**For this reason, these outliers are not removed from the dataset or 'dealt with'. They're left as is.**"
   ]
  },
  {
   "cell_type": "markdown",
   "metadata": {},
   "source": [
    "#### DEALING WITH OUTLIERS IN THE 'userId & movieId' COLUMNS\n",
    "\n",
    "Outliers in userId could represent users with very few or very many ratings while outliers in movieId could represent movies with very few or very many ratings.\n",
    "\n",
    "Excluding users or movies with minimal activity levels was considered since these entries contribute limited(sparse) information to the model, and their inclusion can significantly impact the model's behavior.\n",
    "\n",
    "However, excluding minimal activity entries would result in loss of data which could lead to biased recommendations by focusing solely on **highly active users and popular movies**.\n",
    "\n",
    "Also, since movies with minimal ratings often belong to niche genres or categories, we decided that retaining them allows the recommendation system to cater to diverse preferences and not just the most popular content.\n",
    "\n",
    "\n",
    "The model will be trained to handle sparse data effectively, ensuring that recommendations for such entries are meaningful.\n",
    "Evaluation metrics will also be used to validate that the model performs well across all user and movie activity levels, including those with minimal activity."
   ]
  },
  {
   "cell_type": "markdown",
   "metadata": {},
   "source": [
    "#### OUTLIERS IN THE 'timestamp' COLUMN\n",
    "Outliers in this column could mean timestamps that are far removed from the majority of the data (e.g., years far in the past or future).\n",
    "\n",
    "From the dataset text description, timestamps represent seconds since midnight Coordinated Universal Time (UTC) of January 1, 1970. We analyzed these datetime values for potential outliers. Then, to make the timestamp column more readable and interpretable, we converted the UNIX timestamps into human-readable datetime values.  "
   ]
  },
  {
   "cell_type": "code",
   "execution_count": 17,
   "metadata": {},
   "outputs": [
    {
     "data": {
      "image/png": "[encoded data removed]",
      "text/plain": [
       "<Figure size 864x576 with 1 Axes>"
      ]
     },
     "metadata": {
      "needs_background": "light"
     },
     "output_type": "display_data"
    }
   ],
   "source": [
    "#visualize the distribution of timestamps to visually check for outliers\n",
    "plt.figure(figsize=(12,8))\n",
    "sns.boxplot(y=data['timestamp'])\n",
    "plt.title('DISTRIBUTION OF TIMESTAMPS', fontsize= 18)\n",
    "plt.ylabel('TIMESTAMP', fontsize= 14)\n",
    "plt.show()"
   ]
  },
  {
   "cell_type": "code",
   "execution_count": 18,
   "metadata": {},
   "outputs": [
    {
     "name": "stdout",
     "output_type": "stream",
     "text": [
      "Earliest timestamp: 828124615\n",
      "Latest timestamp: 1537799250\n"
     ]
    }
   ],
   "source": [
    "#earliest vs latest dates\n",
    "print(f\"Earliest timestamp: {data['timestamp'].min()}\")\n",
    "print(f\"Latest timestamp: {data['timestamp'].max()}\")"
   ]
  },
  {
   "cell_type": "markdown",
   "metadata": {},
   "source": [
    "From the boxplot above, we observed that there are no outliers in the timestamp columns"
   ]
  },
  {
   "cell_type": "code",
   "execution_count": 19,
   "metadata": {},
   "outputs": [
    {
     "name": "stdout",
     "output_type": "stream",
     "text": [
      "            timestamp\n",
      "0 2000-07-30 18:45:03\n",
      "1 2000-07-30 18:20:47\n",
      "2 2000-07-30 18:37:04\n",
      "3 2000-07-30 19:03:35\n",
      "4 2000-07-30 18:48:51\n"
     ]
    }
   ],
   "source": [
    "#convert the 'timestamp' column to datetime format instead of a large integer, making it more understandable\n",
    "#unit='s' indicates that the timestamp is in seconds\n",
    "data['timestamp'] = pd.to_datetime(data['timestamp'], unit='s')\n",
    "\n",
    "#print the first few rows to verify the conversion\n",
    "print(data[['timestamp']].head())"
   ]
  },
  {
   "cell_type": "code",
   "execution_count": 20,
   "metadata": {},
   "outputs": [
    {
     "data": {
      "text/html": [
       "<div>\n",
       "<style scoped>\n",
       "    .dataframe tbody tr th:only-of-type {\n",
       "        vertical-align: middle;\n",
       "    }\n",
       "\n",
       "    .dataframe tbody tr th {\n",
       "        vertical-align: top;\n",
       "    }\n",
       "\n",
       "    .dataframe thead th {\n",
       "        text-align: right;\n",
       "    }\n",
       "</style>\n",
       "<table border=\"1\" class=\"dataframe\">\n",
       "  <thead>\n",
       "    <tr style=\"text-align: right;\">\n",
       "      <th></th>\n",
       "      <th>userId</th>\n",
       "      <th>movieId</th>\n",
       "      <th>rating</th>\n",
       "      <th>timestamp</th>\n",
       "      <th>title</th>\n",
       "      <th>genres</th>\n",
       "    </tr>\n",
       "  </thead>\n",
       "  <tbody>\n",
       "    <tr>\n",
       "      <th>0</th>\n",
       "      <td>1</td>\n",
       "      <td>1</td>\n",
       "      <td>4.0</td>\n",
       "      <td>2000-07-30 18:45:03</td>\n",
       "      <td>Toy Story (1995)</td>\n",
       "      <td>Adventure|Animation|Children|Comedy|Fantasy</td>\n",
       "    </tr>\n",
       "    <tr>\n",
       "      <th>1</th>\n",
       "      <td>1</td>\n",
       "      <td>3</td>\n",
       "      <td>4.0</td>\n",
       "      <td>2000-07-30 18:20:47</td>\n",
       "      <td>Grumpier Old Men (1995)</td>\n",
       "      <td>Comedy|Romance</td>\n",
       "    </tr>\n",
       "    <tr>\n",
       "      <th>2</th>\n",
       "      <td>1</td>\n",
       "      <td>6</td>\n",
       "      <td>4.0</td>\n",
       "      <td>2000-07-30 18:37:04</td>\n",
       "      <td>Heat (1995)</td>\n",
       "      <td>Action|Crime|Thriller</td>\n",
       "    </tr>\n",
       "    <tr>\n",
       "      <th>3</th>\n",
       "      <td>1</td>\n",
       "      <td>47</td>\n",
       "      <td>5.0</td>\n",
       "      <td>2000-07-30 19:03:35</td>\n",
       "      <td>Seven (a.k.a. Se7en) (1995)</td>\n",
       "      <td>Mystery|Thriller</td>\n",
       "    </tr>\n",
       "    <tr>\n",
       "      <th>4</th>\n",
       "      <td>1</td>\n",
       "      <td>50</td>\n",
       "      <td>5.0</td>\n",
       "      <td>2000-07-30 18:48:51</td>\n",
       "      <td>Usual Suspects, The (1995)</td>\n",
       "      <td>Crime|Mystery|Thriller</td>\n",
       "    </tr>\n",
       "  </tbody>\n",
       "</table>\n",
       "</div>"
      ],
      "text/plain": [
       "   userId  movieId  rating           timestamp                        title  \\\n",
       "0       1        1     4.0 2000-07-30 18:45:03             Toy Story (1995)   \n",
       "1       1        3     4.0 2000-07-30 18:20:47      Grumpier Old Men (1995)   \n",
       "2       1        6     4.0 2000-07-30 18:37:04                  Heat (1995)   \n",
       "3       1       47     5.0 2000-07-30 19:03:35  Seven (a.k.a. Se7en) (1995)   \n",
       "4       1       50     5.0 2000-07-30 18:48:51   Usual Suspects, The (1995)   \n",
       "\n",
       "                                        genres  \n",
       "0  Adventure|Animation|Children|Comedy|Fantasy  \n",
       "1                               Comedy|Romance  \n",
       "2                        Action|Crime|Thriller  \n",
       "3                             Mystery|Thriller  \n",
       "4                       Crime|Mystery|Thriller  "
      ]
     },
     "execution_count": 20,
     "metadata": {},
     "output_type": "execute_result"
    }
   ],
   "source": [
    "data.head()"
   ]
  },
  {
   "cell_type": "markdown",
   "metadata": {},
   "source": [
    "## DATA ANALYSIS (EDA) & VISUALIZATION\n",
    "\n",
    "This section contains the Exploratory Data Analysis (EDA) conducted on the dataset to gain deeper insights into the available information. The analysis includes a thorough examination of the data to understand trends and relationships.\n",
    "\n",
    "Various visualizations are utilized to summarize findings, identify patterns, and provide a clearer understanding of the dataset, which will aid in building an effective movie recommendation system."
   ]
  },
  {
   "cell_type": "code",
   "execution_count": 21,
   "metadata": {},
   "outputs": [
    {
     "data": {
      "text/html": [
       "<div>\n",
       "<style scoped>\n",
       "    .dataframe tbody tr th:only-of-type {\n",
       "        vertical-align: middle;\n",
       "    }\n",
       "\n",
       "    .dataframe tbody tr th {\n",
       "        vertical-align: top;\n",
       "    }\n",
       "\n",
       "    .dataframe thead th {\n",
       "        text-align: right;\n",
       "    }\n",
       "</style>\n",
       "<table border=\"1\" class=\"dataframe\">\n",
       "  <thead>\n",
       "    <tr style=\"text-align: right;\">\n",
       "      <th></th>\n",
       "      <th>userId</th>\n",
       "      <th>movieId</th>\n",
       "      <th>rating</th>\n",
       "      <th>timestamp</th>\n",
       "      <th>title</th>\n",
       "      <th>genres</th>\n",
       "    </tr>\n",
       "  </thead>\n",
       "  <tbody>\n",
       "    <tr>\n",
       "      <th>0</th>\n",
       "      <td>1</td>\n",
       "      <td>1</td>\n",
       "      <td>4.0</td>\n",
       "      <td>2000-07-30 18:45:03</td>\n",
       "      <td>Toy Story (1995)</td>\n",
       "      <td>Adventure|Animation|Children|Comedy|Fantasy</td>\n",
       "    </tr>\n",
       "    <tr>\n",
       "      <th>1</th>\n",
       "      <td>1</td>\n",
       "      <td>3</td>\n",
       "      <td>4.0</td>\n",
       "      <td>2000-07-30 18:20:47</td>\n",
       "      <td>Grumpier Old Men (1995)</td>\n",
       "      <td>Comedy|Romance</td>\n",
       "    </tr>\n",
       "    <tr>\n",
       "      <th>2</th>\n",
       "      <td>1</td>\n",
       "      <td>6</td>\n",
       "      <td>4.0</td>\n",
       "      <td>2000-07-30 18:37:04</td>\n",
       "      <td>Heat (1995)</td>\n",
       "      <td>Action|Crime|Thriller</td>\n",
       "    </tr>\n",
       "    <tr>\n",
       "      <th>3</th>\n",
       "      <td>1</td>\n",
       "      <td>47</td>\n",
       "      <td>5.0</td>\n",
       "      <td>2000-07-30 19:03:35</td>\n",
       "      <td>Seven (a.k.a. Se7en) (1995)</td>\n",
       "      <td>Mystery|Thriller</td>\n",
       "    </tr>\n",
       "    <tr>\n",
       "      <th>4</th>\n",
       "      <td>1</td>\n",
       "      <td>50</td>\n",
       "      <td>5.0</td>\n",
       "      <td>2000-07-30 18:48:51</td>\n",
       "      <td>Usual Suspects, The (1995)</td>\n",
       "      <td>Crime|Mystery|Thriller</td>\n",
       "    </tr>\n",
       "    <tr>\n",
       "      <th>5</th>\n",
       "      <td>1</td>\n",
       "      <td>70</td>\n",
       "      <td>3.0</td>\n",
       "      <td>2000-07-30 18:40:00</td>\n",
       "      <td>From Dusk Till Dawn (1996)</td>\n",
       "      <td>Action|Comedy|Horror|Thriller</td>\n",
       "    </tr>\n",
       "    <tr>\n",
       "      <th>6</th>\n",
       "      <td>1</td>\n",
       "      <td>101</td>\n",
       "      <td>5.0</td>\n",
       "      <td>2000-07-30 18:14:28</td>\n",
       "      <td>Bottle Rocket (1996)</td>\n",
       "      <td>Adventure|Comedy|Crime|Romance</td>\n",
       "    </tr>\n",
       "    <tr>\n",
       "      <th>7</th>\n",
       "      <td>1</td>\n",
       "      <td>110</td>\n",
       "      <td>4.0</td>\n",
       "      <td>2000-07-30 18:36:16</td>\n",
       "      <td>Braveheart (1995)</td>\n",
       "      <td>Action|Drama|War</td>\n",
       "    </tr>\n",
       "    <tr>\n",
       "      <th>8</th>\n",
       "      <td>1</td>\n",
       "      <td>151</td>\n",
       "      <td>5.0</td>\n",
       "      <td>2000-07-30 19:07:21</td>\n",
       "      <td>Rob Roy (1995)</td>\n",
       "      <td>Action|Drama|Romance|War</td>\n",
       "    </tr>\n",
       "    <tr>\n",
       "      <th>9</th>\n",
       "      <td>1</td>\n",
       "      <td>157</td>\n",
       "      <td>5.0</td>\n",
       "      <td>2000-07-30 19:08:20</td>\n",
       "      <td>Canadian Bacon (1995)</td>\n",
       "      <td>Comedy|War</td>\n",
       "    </tr>\n",
       "    <tr>\n",
       "      <th>10</th>\n",
       "      <td>1</td>\n",
       "      <td>163</td>\n",
       "      <td>5.0</td>\n",
       "      <td>2000-07-30 19:00:50</td>\n",
       "      <td>Desperado (1995)</td>\n",
       "      <td>Action|Romance|Western</td>\n",
       "    </tr>\n",
       "    <tr>\n",
       "      <th>11</th>\n",
       "      <td>1</td>\n",
       "      <td>216</td>\n",
       "      <td>5.0</td>\n",
       "      <td>2000-07-30 18:20:08</td>\n",
       "      <td>Billy Madison (1995)</td>\n",
       "      <td>Comedy</td>\n",
       "    </tr>\n",
       "    <tr>\n",
       "      <th>12</th>\n",
       "      <td>1</td>\n",
       "      <td>223</td>\n",
       "      <td>3.0</td>\n",
       "      <td>2000-07-30 18:16:25</td>\n",
       "      <td>Clerks (1994)</td>\n",
       "      <td>Comedy</td>\n",
       "    </tr>\n",
       "    <tr>\n",
       "      <th>13</th>\n",
       "      <td>1</td>\n",
       "      <td>231</td>\n",
       "      <td>5.0</td>\n",
       "      <td>2000-07-30 18:19:39</td>\n",
       "      <td>Dumb &amp; Dumber (Dumb and Dumber) (1994)</td>\n",
       "      <td>Adventure|Comedy</td>\n",
       "    </tr>\n",
       "    <tr>\n",
       "      <th>14</th>\n",
       "      <td>1</td>\n",
       "      <td>235</td>\n",
       "      <td>4.0</td>\n",
       "      <td>2000-07-30 18:15:08</td>\n",
       "      <td>Ed Wood (1994)</td>\n",
       "      <td>Comedy|Drama</td>\n",
       "    </tr>\n",
       "    <tr>\n",
       "      <th>15</th>\n",
       "      <td>1</td>\n",
       "      <td>260</td>\n",
       "      <td>5.0</td>\n",
       "      <td>2000-07-30 18:28:00</td>\n",
       "      <td>Star Wars: Episode IV - A New Hope (1977)</td>\n",
       "      <td>Action|Adventure|Sci-Fi</td>\n",
       "    </tr>\n",
       "    <tr>\n",
       "      <th>16</th>\n",
       "      <td>1</td>\n",
       "      <td>296</td>\n",
       "      <td>3.0</td>\n",
       "      <td>2000-07-30 18:49:27</td>\n",
       "      <td>Pulp Fiction (1994)</td>\n",
       "      <td>Comedy|Crime|Drama|Thriller</td>\n",
       "    </tr>\n",
       "    <tr>\n",
       "      <th>17</th>\n",
       "      <td>1</td>\n",
       "      <td>316</td>\n",
       "      <td>3.0</td>\n",
       "      <td>2000-07-30 18:38:30</td>\n",
       "      <td>Stargate (1994)</td>\n",
       "      <td>Action|Adventure|Sci-Fi</td>\n",
       "    </tr>\n",
       "    <tr>\n",
       "      <th>18</th>\n",
       "      <td>1</td>\n",
       "      <td>333</td>\n",
       "      <td>5.0</td>\n",
       "      <td>2000-07-30 18:19:39</td>\n",
       "      <td>Tommy Boy (1995)</td>\n",
       "      <td>Comedy</td>\n",
       "    </tr>\n",
       "    <tr>\n",
       "      <th>19</th>\n",
       "      <td>1</td>\n",
       "      <td>349</td>\n",
       "      <td>4.0</td>\n",
       "      <td>2000-07-30 18:42:43</td>\n",
       "      <td>Clear and Present Danger (1994)</td>\n",
       "      <td>Action|Crime|Drama|Thriller</td>\n",
       "    </tr>\n",
       "  </tbody>\n",
       "</table>\n",
       "</div>"
      ],
      "text/plain": [
       "    userId  movieId  rating           timestamp  \\\n",
       "0        1        1     4.0 2000-07-30 18:45:03   \n",
       "1        1        3     4.0 2000-07-30 18:20:47   \n",
       "2        1        6     4.0 2000-07-30 18:37:04   \n",
       "3        1       47     5.0 2000-07-30 19:03:35   \n",
       "4        1       50     5.0 2000-07-30 18:48:51   \n",
       "5        1       70     3.0 2000-07-30 18:40:00   \n",
       "6        1      101     5.0 2000-07-30 18:14:28   \n",
       "7        1      110     4.0 2000-07-30 18:36:16   \n",
       "8        1      151     5.0 2000-07-30 19:07:21   \n",
       "9        1      157     5.0 2000-07-30 19:08:20   \n",
       "10       1      163     5.0 2000-07-30 19:00:50   \n",
       "11       1      216     5.0 2000-07-30 18:20:08   \n",
       "12       1      223     3.0 2000-07-30 18:16:25   \n",
       "13       1      231     5.0 2000-07-30 18:19:39   \n",
       "14       1      235     4.0 2000-07-30 18:15:08   \n",
       "15       1      260     5.0 2000-07-30 18:28:00   \n",
       "16       1      296     3.0 2000-07-30 18:49:27   \n",
       "17       1      316     3.0 2000-07-30 18:38:30   \n",
       "18       1      333     5.0 2000-07-30 18:19:39   \n",
       "19       1      349     4.0 2000-07-30 18:42:43   \n",
       "\n",
       "                                        title  \\\n",
       "0                            Toy Story (1995)   \n",
       "1                     Grumpier Old Men (1995)   \n",
       "2                                 Heat (1995)   \n",
       "3                 Seven (a.k.a. Se7en) (1995)   \n",
       "4                  Usual Suspects, The (1995)   \n",
       "5                  From Dusk Till Dawn (1996)   \n",
       "6                        Bottle Rocket (1996)   \n",
       "7                           Braveheart (1995)   \n",
       "8                              Rob Roy (1995)   \n",
       "9                       Canadian Bacon (1995)   \n",
       "10                           Desperado (1995)   \n",
       "11                       Billy Madison (1995)   \n",
       "12                              Clerks (1994)   \n",
       "13     Dumb & Dumber (Dumb and Dumber) (1994)   \n",
       "14                             Ed Wood (1994)   \n",
       "15  Star Wars: Episode IV - A New Hope (1977)   \n",
       "16                        Pulp Fiction (1994)   \n",
       "17                            Stargate (1994)   \n",
       "18                           Tommy Boy (1995)   \n",
       "19            Clear and Present Danger (1994)   \n",
       "\n",
       "                                         genres  \n",
       "0   Adventure|Animation|Children|Comedy|Fantasy  \n",
       "1                                Comedy|Romance  \n",
       "2                         Action|Crime|Thriller  \n",
       "3                              Mystery|Thriller  \n",
       "4                        Crime|Mystery|Thriller  \n",
       "5                 Action|Comedy|Horror|Thriller  \n",
       "6                Adventure|Comedy|Crime|Romance  \n",
       "7                              Action|Drama|War  \n",
       "8                      Action|Drama|Romance|War  \n",
       "9                                    Comedy|War  \n",
       "10                       Action|Romance|Western  \n",
       "11                                       Comedy  \n",
       "12                                       Comedy  \n",
       "13                             Adventure|Comedy  \n",
       "14                                 Comedy|Drama  \n",
       "15                      Action|Adventure|Sci-Fi  \n",
       "16                  Comedy|Crime|Drama|Thriller  \n",
       "17                      Action|Adventure|Sci-Fi  \n",
       "18                                       Comedy  \n",
       "19                  Action|Crime|Drama|Thriller  "
      ]
     },
     "execution_count": 21,
     "metadata": {},
     "output_type": "execute_result"
    }
   ],
   "source": [
    "# Briefly explore the data again before beginning EDA\n",
    "data.head(20)"
   ]
  },
  {
   "cell_type": "code",
   "execution_count": 22,
   "metadata": {},
   "outputs": [
    {
     "data": {
      "text/plain": [
       "userId       0\n",
       "movieId      0\n",
       "rating       0\n",
       "timestamp    0\n",
       "title        0\n",
       "genres       0\n",
       "dtype: int64"
      ]
     },
     "execution_count": 22,
     "metadata": {},
     "output_type": "execute_result"
    }
   ],
   "source": [
    "data.isnull().sum()"
   ]
  },
  {
   "cell_type": "code",
   "execution_count": 23,
   "metadata": {},
   "outputs": [
    {
     "name": "stdout",
     "output_type": "stream",
     "text": [
      "<class 'pandas.core.frame.DataFrame'>\n",
      "Int64Index: 100836 entries, 0 to 100835\n",
      "Data columns (total 6 columns):\n",
      " #   Column     Non-Null Count   Dtype         \n",
      "---  ------     --------------   -----         \n",
      " 0   userId     100836 non-null  int64         \n",
      " 1   movieId    100836 non-null  int64         \n",
      " 2   rating     100836 non-null  float64       \n",
      " 3   timestamp  100836 non-null  datetime64[ns]\n",
      " 4   title      100836 non-null  object        \n",
      " 5   genres     100836 non-null  object        \n",
      "dtypes: datetime64[ns](1), float64(1), int64(2), object(2)\n",
      "memory usage: 5.4+ MB\n"
     ]
    }
   ],
   "source": [
    "data.info()"
   ]
  },
  {
   "cell_type": "markdown",
   "metadata": {},
   "source": [
    "### DISTRIBUTION OF RATINGS\n",
    "\n",
    "Here, we'll investigate how ratings are distributed across the dataset to identify trends like whether users tend to give higher or lower ratings."
   ]
  },
  {
   "cell_type": "code",
   "execution_count": 24,
   "metadata": {},
   "outputs": [
    {
     "data": {
      "image/png": "[encoded data removed]",
      "text/plain": [
       "<Figure size 1008x576 with 1 Axes>"
      ]
     },
     "metadata": {
      "needs_background": "light"
     },
     "output_type": "display_data"
    }
   ],
   "source": [
    "# Plot the distribution of ratings\n",
    "plt.figure(figsize=(14, 8))\n",
    "sns.histplot(data['rating'], bins=10, kde=True, color='skyblue')\n",
    "plt.title('DISTRIBUTION OF MOVIE RATINGS', fontsize=18)\n",
    "plt.xlabel('RATING', fontsize=14)\n",
    "plt.ylabel('COUNT', fontsize=14)\n",
    "plt.xticks(fontsize= 12)\n",
    "plt.yticks(fontsize= 12)\n",
    "plt.grid(axis='y', linestyle='--', alpha=0.7)\n",
    "plt.show()"
   ]
  },
  {
   "cell_type": "markdown",
   "metadata": {},
   "source": [
    "#### Observation\n",
    "\n",
    "From the plot above we can observe the highest peaks are at rating 3 and 4 and very low at rating point 1 and 2. The distribution of movie ratings reveals that users tend to give moderate to positive ratings, indicating a tendency towards average or slightly favorable reviews rather than extreme opinions of say 1 and 5."
   ]
  },
  {
   "cell_type": "markdown",
   "metadata": {},
   "source": [
    "### GENRE POPULARITY ANALYSIS\n",
    "\n",
    "In this section, we'll examine which genres receive the most ratings as well as the highest average ratings to understand audience preferences."
   ]
  },
  {
   "cell_type": "code",
   "execution_count": 25,
   "metadata": {},
   "outputs": [
    {
     "data": {
      "image/png": "[encoded data removed]",
      "text/plain": [
       "<Figure size 1008x576 with 1 Axes>"
      ]
     },
     "metadata": {
      "needs_background": "light"
     },
     "output_type": "display_data"
    },
    {
     "data": {
      "image/png": "[encoded data removed]",
      "text/plain": [
       "<Figure size 1008x576 with 1 Axes>"
      ]
     },
     "metadata": {
      "needs_background": "light"
     },
     "output_type": "display_data"
    }
   ],
   "source": [
    "#split the genres and explode them for better analysis since most movies fall in more than one genre\n",
    "data['genres'] = data['genres'].str.split('|')\n",
    "exploded_genres = data.explode('genres')\n",
    "\n",
    "#count the number of ratings per genre\n",
    "genre_counts = exploded_genres['genres'].value_counts()\n",
    "\n",
    "#calculate average rating per genre\n",
    "genre_avg_ratings = exploded_genres.groupby('genres')['rating'].mean().sort_values(ascending=False)\n",
    "\n",
    "#visualize the number of ratings per genre\n",
    "plt.figure(figsize=(14, 8))\n",
    "sns.barplot(x=genre_counts.index, y=genre_counts.values, palette=\"viridis\")\n",
    "plt.xticks(rotation=45, ha='right', fontsize=12)\n",
    "plt.title('NUMBER OF RATINGS PER GENRE', fontsize=18)\n",
    "plt.xlabel('GENRE', fontsize=14)\n",
    "plt.ylabel('NUMBER OF RATINGS', fontsize=14)\n",
    "plt.show()\n",
    "\n",
    "#the average ratings per genre\n",
    "plt.figure(figsize=(14, 8))\n",
    "sns.barplot(x=genre_avg_ratings.index, y=genre_avg_ratings.values, palette=\"coolwarm\")\n",
    "plt.xticks(rotation=45, ha='right', fontsize=12)\n",
    "plt.title('AVERAGE RATINGS PER GENRE', fontsize=18)\n",
    "plt.xlabel('GENRE', fontsize=14)\n",
    "plt.ylabel('AVERAGE RATING', fontsize=14)\n",
    "plt.show()"
   ]
  },
  {
   "cell_type": "markdown",
   "metadata": {},
   "source": [
    "#### Observation\n",
    "\n",
    "The first plot shows the number of ratings across different movie genres, with some genres receiving significantly higher **engagement** than others. As observed, genres like drama, comedy action, thriller, and adventure are the most-rated genres while genres like film-noir, musicals, dicumentary, and western are some of the least-rated genres. \n",
    "\n",
    "\n",
    "The second plot highlights the average rating for each genre, showing **variations in user satisfaction**. As observed above, despite being among the least-rated genres, film-noir received the highest average rating, followed closely by war and documentary genres.\n",
    "\n",
    "Genres such as Drama and Comedy tend to receive the highest number of ratings, indicating their widespread **popularity**. However, genres with **fewer ratings** may still have **higher average ratings**, suggesting a **niche but satisfied audience**."
   ]
  },
  {
   "cell_type": "markdown",
   "metadata": {},
   "source": [
    "### MOST-RATED AND TOP-RATED MOVIES\n",
    "\n",
    "In this section we'll identify movies with the highest average ratings and those with the most ratings to determine popular movies. We'll also see whether the results here will be consistent with the analysis of genre popularity"
   ]
  },
  {
   "cell_type": "code",
   "execution_count": 26,
   "metadata": {},
   "outputs": [
    {
     "data": {
      "image/png": "[encoded data removed]",
      "text/plain": [
       "<Figure size 1152x576 with 2 Axes>"
      ]
     },
     "metadata": {
      "needs_background": "light"
     },
     "output_type": "display_data"
    }
   ],
   "source": [
    "#calculate the number of ratings and average rating per movie\n",
    "top_rated_movies = data.groupby('movieId').agg(\n",
    "    average_rating=('rating', 'mean'),\n",
    "    rating_count=('rating', 'count')\n",
    ").reset_index()\n",
    "\n",
    "#merge with movie titles\n",
    "top_rated_movies = top_rated_movies.merge(data[['movieId', 'title']].drop_duplicates(), on='movieId', how='left')\n",
    "\n",
    "#top 10 highest-rated movies (with at least 50 ratings for reliability)\n",
    "highest_rated = top_rated_movies[top_rated_movies['rating_count'] >= 50].nlargest(10, 'average_rating')\n",
    "\n",
    "#top 10 most-rated movies\n",
    "most_rated = top_rated_movies.nlargest(10, 'rating_count')\n",
    "\n",
    "#Plot\n",
    "plt.figure(figsize=(16, 8))\n",
    "\n",
    "#top-rated movies\n",
    "plt.subplot(1, 2, 1)\n",
    "sns.barplot(x='average_rating', y='title', data=highest_rated, palette='viridis')\n",
    "plt.title('TOP 10 HIGHEST RATED MOVIES', fontsize=18)\n",
    "plt.xlabel('AVERAGE RATING', fontsize=14)\n",
    "plt.ylabel('MOVIE TITLE', fontsize=14)\n",
    "plt.xticks(fontsize= 12)\n",
    "plt.yticks(fontsize= 12)\n",
    "\n",
    "\n",
    "#most-rated movies\n",
    "plt.subplot(1, 2, 2)\n",
    "sns.barplot(x='rating_count', y='title', data=most_rated, palette='magma')\n",
    "plt.title('TOP 10 MOST RATED MOVIES', fontsize=18)\n",
    "plt.xlabel('NUMBER OF RATINGS', fontsize=14)\n",
    "plt.ylabel('MOVIE TITLE', fontsize=14)\n",
    "plt.xticks(fontsize= 12)\n",
    "plt.yticks(fontsize= 12)\n",
    "\n",
    "plt.tight_layout()\n",
    "plt.show()"
   ]
  },
  {
   "cell_type": "markdown",
   "metadata": {},
   "source": [
    "#### Observation\n",
    "\n",
    "The visualization reveals that certain movies have received significantly higher average ratings, with **the highest-rated movies having an average rating above 4.5**. However, as observed in the plots above, these movies might have a lower **number of ratings** overall. As mentioned earlier, this might indicate a **niche but satisfied audience**. \n",
    "\n",
    "On the other hand, the **most-rated** movies suggest broader audience engagement, indicating their widespread popularity but with slightly lower average ratings.\n",
    "\n",
    "Movies like The Shawshank Redemption(1994) appear both in the top-rated and most-rated list suggesting a very popular movie that was also did well. "
   ]
  },
  {
   "cell_type": "markdown",
   "metadata": {},
   "source": [
    "### RATING TRENDS OVERTIME\n",
    "\n",
    "In this section, we'll visualize the ratings trends over time to investigate how ratings have changed over the years."
   ]
  },
  {
   "cell_type": "code",
   "execution_count": 27,
   "metadata": {},
   "outputs": [
    {
     "data": {
      "image/png": "[encoded data removed]",
      "text/plain": [
       "<Figure size 1008x576 with 1 Axes>"
      ]
     },
     "metadata": {
      "needs_background": "light"
     },
     "output_type": "display_data"
    }
   ],
   "source": [
    "#get the year only from the datetime\n",
    "data['year'] = pd.to_datetime(data['timestamp'], unit='s').dt.year\n",
    "\n",
    "#calculate average rating per year\n",
    "yearly_ratings = data.groupby('year')['rating'].mean().reset_index()\n",
    "\n",
    "#visualize the trend of average ratings over the years\n",
    "plt.figure(figsize=(14, 8))\n",
    "sns.lineplot(x='year', y='rating', data=yearly_ratings, marker='o')\n",
    "plt.title('TRENDS OF AVERAGE RATINGS OVER THE YEARS', fontsize=18)\n",
    "plt.xlabel('YEAR', fontsize=14)\n",
    "plt.ylabel('AVERAGE RATING', fontsize=14)\n",
    "plt.xticks(fontsize=12)\n",
    "plt.yticks(fontsize=12)\n",
    "plt.grid(True)\n",
    "plt.show()"
   ]
  },
  {
   "cell_type": "markdown",
   "metadata": {},
   "source": [
    "#### Observation\n",
    "\n",
    "From the visualization above, we can observe that the avearge rating of movies has **fluctuated** over the years with a noticeable decline around the years 2006-2007. This fluctuations could **potentially be influenced by factors such as changes in user preferences or movie quality over time, or other factors such as the rise of social media**."
   ]
  },
  {
   "cell_type": "markdown",
   "metadata": {},
   "source": [
    "### CORRELATION ANALYSIS BETWEEN USER ACTIVITY AND RATINGS\n",
    "\n",
    "In this section, we'll check if highly active users tend to rate movies differently compared to less active users."
   ]
  },
  {
   "cell_type": "code",
   "execution_count": 28,
   "metadata": {},
   "outputs": [
    {
     "data": {
      "image/png": "[encoded data removed]",
      "text/plain": [
       "<Figure size 1008x576 with 1 Axes>"
      ]
     },
     "metadata": {
      "needs_background": "light"
     },
     "output_type": "display_data"
    }
   ],
   "source": [
    "#calculate the number of ratings per user and their average rating\n",
    "user_activity = data.groupby('userId').agg(\n",
    "    num_ratings=('rating', 'count'),\n",
    "    avg_rating=('rating', 'mean')\n",
    ").reset_index()\n",
    "\n",
    "\n",
    "\n",
    "#plot a scatter plot of number of ratings vs. average rating\n",
    "plt.figure(figsize=(14, 8))\n",
    "sns.scatterplot(x=user_activity['num_ratings'], y=user_activity['avg_rating'], alpha=0.6, color='purple')\n",
    "plt.title('USER ACTIVITY vs. AVERAGE RATING', fontsize=18)\n",
    "plt.xlabel('NUMBER OF RATINGS', fontsize=14)\n",
    "plt.ylabel('AVERAGE RATINGS', fontsize=14)\n",
    "plt.xticks(fontsize=12)\n",
    "plt.yticks(fontsize=12)\n",
    "plt.grid(True)\n",
    "plt.show()"
   ]
  },
  {
   "cell_type": "markdown",
   "metadata": {},
   "source": [
    "#### Observation\n",
    "\n",
    "The scatter plot above suggests that users who provide more ratings **(more active users)** tend to have **average ratings within a specific range**, whereas less active users show more variability in their ratings. Highly active users might have more consistent preferences compared to sporadic users."
   ]
  },
  {
   "cell_type": "markdown",
   "metadata": {},
   "source": [
    "### COLD-START PROBLEM INVESTIGATION\n",
    "\n",
    "Here, we investigated new users or movies with very few ratings, which could impact the effectiveness of recommendations."
   ]
  },
  {
   "cell_type": "code",
   "execution_count": 29,
   "metadata": {},
   "outputs": [
    {
     "data": {
      "image/png": "[encoded data removed]",
      "text/plain": [
       "<Figure size 1008x576 with 2 Axes>"
      ]
     },
     "metadata": {
      "needs_background": "light"
     },
     "output_type": "display_data"
    }
   ],
   "source": [
    "plt.figure(figsize=(14, 8))\n",
    "\n",
    "#plot a histogram for number of ratings per movie\n",
    "plt.subplot(1, 2, 1)\n",
    "data['movieId'].value_counts().plot(kind='hist', bins=50, color='skyblue', edgecolor='black')\n",
    "plt.title('DISTRIBUTION OF RATINGS PER MOVIE', fontsize=18)\n",
    "plt.xlabel('NUMBER OF RATINGS', fontsize=14)\n",
    "plt.ylabel('COUNT', fontsize=14)\n",
    "plt.xticks(fontsize=12)\n",
    "plt.yticks(fontsize=12)\n",
    "\n",
    "#hist. for number of ratings per user\n",
    "plt.subplot(1, 2, 2)\n",
    "data['userId'].value_counts().plot(kind='hist', bins=50, color='lightcoral', edgecolor='black')\n",
    "plt.title('DISTRIBUTION OF RATINGS PER USER', fontsize=18)\n",
    "plt.xlabel('NUMBER OF RATINGS', fontsize=14)\n",
    "plt.ylabel('COUNT', fontsize=14)\n",
    "plt.xticks(fontsize=12)\n",
    "plt.yticks(fontsize=12)\n",
    "\n",
    "plt.tight_layout()\n",
    "plt.show()"
   ]
  },
  {
   "cell_type": "markdown",
   "metadata": {},
   "source": [
    "#### Observation\n",
    "\n",
    "The distributions above suggest that a significant number of movies and users have very few ratings, **indicating a potential cold start problem**. A few popular movies receive most of the ratings, while many have very few ratings, which could limit recommendation accuracy for new items or users."
   ]
  },
  {
   "cell_type": "markdown",
   "metadata": {},
   "source": [
    "### USER-MOVIE INTERACTION MATRIX ANALYSIS\n",
    "Here, we visualised sparcity in ratings"
   ]
  },
  {
   "cell_type": "code",
   "execution_count": 30,
   "metadata": {},
   "outputs": [
    {
     "data": {
      "image/png": "[encoded data removed]",
      "text/plain": [
       "<Figure size 1008x576 with 2 Axes>"
      ]
     },
     "metadata": {
      "needs_background": "light"
     },
     "output_type": "display_data"
    }
   ],
   "source": [
    "import random\n",
    "\n",
    "#get a subset of users and movies to visualize\n",
    "sample_users = random.sample(list(data['userId'].unique()), 50)\n",
    "sample_movies = random.sample(list(data['movieId'].unique()), 50)\n",
    "\n",
    "#filter data to get the subset of user-movie interactions\n",
    "interaction_matrix = data.pivot_table(index='userId', columns='movieId', values='rating')\n",
    "interaction_sample = interaction_matrix.loc[sample_users, sample_movies]\n",
    "\n",
    "#plot a heatmap to visualize sparsity\n",
    "plt.figure(figsize=(14, 8))\n",
    "sns.heatmap(interaction_sample, cmap='viridis', cbar=True, linecolor='gray', linewidths=0.1)\n",
    "plt.title('USER-MOVIE INTERACTION MATRIX (Sample)', fontsize=18)\n",
    "plt.xlabel('MOVIES', fontsize=14)\n",
    "plt.ylabel('USERS', fontsize=14)\n",
    "plt.show()"
   ]
  },
  {
   "cell_type": "markdown",
   "metadata": {},
   "source": [
    "#### Observation\n",
    "\n",
    "The visualization above demonstrates that the user-movie interaction matrix is **highly sparse**, with most cells having missing values (no rating). This sparsity indicates that users rate only a small fraction of available movies, which is typical in such a dataset."
   ]
  },
  {
   "cell_type": "markdown",
   "metadata": {},
   "source": [
    "### SUMMARY FINDINGS IN EDA AND DATA ANALYSIS\n",
    "\n",
    "Based on the analysis conducted on the MovieLens dataset, the following are the key insights that can help the stakeholders improve recommendation strategies and business overall:\n",
    "\n",
    "- **Majority of the artings cluster around 3 and 4**: The distribution of ratings shows that most users tend to rate movies with a score of 3 or 4. With this insight, stakeholders can focus on movies that consistently receive ratings above 4 for promotional efforts and personalized recommendations.\n",
    "\n",
    "\n",
    "- **Certain genres dominate user preferences**: Popular genres such as Drama, Comedy, and Action receive the highest number of ratings, showing they align with audience interests. Therefore, these genres can be prioritized in marketing campaigns, and content acquisition can focus on similar genres to boost engagement.\n",
    "\n",
    "\n",
    "- **Highly active users provide more stable ratings**: Analysis showed that users with higher activity levels tend to rate movies more consistently, whereas less active users show greater variability. With this insight, stakeholders can consider loyal and active users segmentation for premium recommendation services or loyalty rewards.\n",
    "\n",
    "\n",
    "- **Fluctuating trends in ratings over the years**: The number of ratings fluctuates over time, with notable increases during specific years, possibly due to platform growth or popular movie releases. Understanding peak activity periods can help the stakeholders plan marketing campaigns or feature releases during high-engagement times.\n",
    "\n",
    "\n",
    "- **Most-rated movies vs. highest-rated movies differ**: Some of the most frequently rated movies don't necessarily have the highest average ratings, indicating that **popularity does not always align with quality**. Stakeholders should differentiate between \"popular\" and \"high-quality\" movies when curating recommendations for users.\n",
    "\n",
    "\n",
    "- **Variation in ratings across different genres**: Some genres, such as Documentary and Film-Noir, tend to receive higher average ratings but have fewer overall ratings compared to mainstream genres. Promoting niche genres with high satisfaction rates can attract dedicated audiences and differentiate content offerings."
   ]
  },
  {
   "cell_type": "markdown",
   "metadata": {},
   "source": [
    "## DATA PREPROCESSING FOR MODELING"
   ]
  },
  {
   "cell_type": "code",
   "execution_count": 31,
   "metadata": {},
   "outputs": [],
   "source": [
    "# Importing the libraries needed for this section\n",
    "from sklearn.preprocessing import MinMaxScaler, StandardScaler  # For scaling/normalization\n",
    "from sklearn.preprocessing import LabelEncoder  #For encoding categorical columns\n",
    "from sklearn.model_selection import train_test_split  # For splitting datasets\n",
    "from surprise import Dataset, Reader  # For preparing data for recommendation algorithms\n",
    "from sklearn.base import BaseEstimator, TransformerMixin\n",
    "from sklearn.pipeline import Pipeline\n",
    "from surprise import SVD\n",
    "from surprise import accuracy\n",
    "\n",
    "# Modeling Stage\n",
    "from surprise import SVD, KNNBasic, KNNWithMeans, KNNBaseline  # Various collaborative filtering models\n",
    "from surprise.model_selection import GridSearchCV  # For hyperparameter tuning\n",
    "from surprise.model_selection import cross_validate  # For model evaluation\n",
    "from surprise.model_selection import RandomizedSearchCV\n",
    "from surprise import dump  # For saving and loading models\n",
    "\n",
    "\n",
    "# Evaluation Stage\n",
    "from sklearn.metrics import mean_squared_error, mean_absolute_error  # For evaluation metrics\n",
    "from math import sqrt  # To calculate RMSE"
   ]
  },
  {
   "cell_type": "markdown",
   "metadata": {},
   "source": [
    "### PREPROCESSING SUMMARY\n",
    "\n",
    "Based on our goal -- to recommend the top 5 movies a user is likely to enjoy based on their ratings of other movies, we decided to build a Collaborative Filtering recommendation system. This algorithm recommends movies based on user-item interactions, in our case, ratings. The algorithm finds patterns in how users rate movies and recommends based on similar user behavior.\n",
    "\n",
    "\n",
    "In this section, we'll preprocess data for Collaborative Filtering to prepare the dataset to be in a format suitable for model training. \n",
    "\n",
    "- **Handling missing values**: From our EDA, the dataset has no missing values.\n",
    "\n",
    "\n",
    "- **Handling duplicates**: Since we also confirmed there are no duplicate rows, we don't need to remove any.\n",
    "\n",
    "\n",
    "- **Dropping Unnecessary columns**: \n",
    "\n",
    "We retained the userId, movieId, and rating columns for the model training. Columns like title, genres, timestamp and year were dropped.\n",
    "\n",
    "Even though userId and movieId are identifiers, they're essential for collaborative filtering models since they linking users and movies. The recommendation system needs a way to uniquely identify and link users to the movies they've rated and these IDs act as keys to map these interactions accurately. For this reason, the Id columns were retained.\n",
    "\n",
    "Since the focus is general recommendations without **time sensitivity**, we dropped the timestamp and year columns. If required later, we can analyze it separately.\n",
    "\n",
    "\n",
    "- **Encoding**:\n",
    "\n",
    "The userId and movieId columns are already numeric (int64 format), so technically, encoding isn’t required. However, encoding was performed to ensure the IDs are consecutive integers (starting from 0). This is because the intended algorithm works faster and more efficiently when IDs are sequentially indexed rather than random large numbers. Encoding was done to also avoid compatibility issues. The original ID columns were retained for better interpretability, but the encoded columns were used internally for modeling.\n",
    "\n",
    "\n",
    "- **Normalizing/scaling the ratings**: \n",
    "\n",
    "With the Surprise's SVD library's ability to handle scaling automatically and ratings being already numerical and bounded within a known range (0-5), additional scaling was unnecessary.\n",
    "\n",
    "\n",
    "- **User-Movie Interaction Matrix Analysis**:\n",
    "\n",
    "We created a user-item interaction matrix since the algorithm relies on comparing users with similar rating patterns or finding patterns between items. The matrix was plotted and as expected there were missing ratings. Our approach was to leave the missing values as is since the algorithm can naturally handle missing values and infer them during training.\n",
    "\n",
    "\n",
    "\n",
    "\n",
    "Here's a brief summary of the preprocessing done in the following cells;\n",
    "\n",
    "**Summary of the Preprocessing Steps**\n",
    "\n",
    "- Split data for model training and evaluation.\n",
    "- Check for missing values and duplicates.\n",
    "- Drop unnecessary columns (title, genres, timestamp, year).\n",
    "- Encode categorical columns (userId, movieId).\n",
    "- Create a user-item interaction matrix to prepare for collaborative filtering.\n",
    "- Converte data into matrix format for model input."
   ]
  },
  {
   "cell_type": "code",
   "execution_count": 32,
   "metadata": {},
   "outputs": [],
   "source": [
    "#create a copy of the data to avoid making changes to the original dataset\n",
    "data2= data.copy()"
   ]
  },
  {
   "cell_type": "code",
   "execution_count": 33,
   "metadata": {
    "scrolled": true
   },
   "outputs": [
    {
     "data": {
      "text/html": [
       "<div>\n",
       "<style scoped>\n",
       "    .dataframe tbody tr th:only-of-type {\n",
       "        vertical-align: middle;\n",
       "    }\n",
       "\n",
       "    .dataframe tbody tr th {\n",
       "        vertical-align: top;\n",
       "    }\n",
       "\n",
       "    .dataframe thead th {\n",
       "        text-align: right;\n",
       "    }\n",
       "</style>\n",
       "<table border=\"1\" class=\"dataframe\">\n",
       "  <thead>\n",
       "    <tr style=\"text-align: right;\">\n",
       "      <th></th>\n",
       "      <th>userId</th>\n",
       "      <th>movieId</th>\n",
       "      <th>rating</th>\n",
       "      <th>timestamp</th>\n",
       "      <th>title</th>\n",
       "      <th>genres</th>\n",
       "      <th>year</th>\n",
       "    </tr>\n",
       "  </thead>\n",
       "  <tbody>\n",
       "    <tr>\n",
       "      <th>0</th>\n",
       "      <td>1</td>\n",
       "      <td>1</td>\n",
       "      <td>4.0</td>\n",
       "      <td>2000-07-30 18:45:03</td>\n",
       "      <td>Toy Story (1995)</td>\n",
       "      <td>[Adventure, Animation, Children, Comedy, Fantasy]</td>\n",
       "      <td>2000</td>\n",
       "    </tr>\n",
       "    <tr>\n",
       "      <th>1</th>\n",
       "      <td>1</td>\n",
       "      <td>3</td>\n",
       "      <td>4.0</td>\n",
       "      <td>2000-07-30 18:20:47</td>\n",
       "      <td>Grumpier Old Men (1995)</td>\n",
       "      <td>[Comedy, Romance]</td>\n",
       "      <td>2000</td>\n",
       "    </tr>\n",
       "    <tr>\n",
       "      <th>2</th>\n",
       "      <td>1</td>\n",
       "      <td>6</td>\n",
       "      <td>4.0</td>\n",
       "      <td>2000-07-30 18:37:04</td>\n",
       "      <td>Heat (1995)</td>\n",
       "      <td>[Action, Crime, Thriller]</td>\n",
       "      <td>2000</td>\n",
       "    </tr>\n",
       "    <tr>\n",
       "      <th>3</th>\n",
       "      <td>1</td>\n",
       "      <td>47</td>\n",
       "      <td>5.0</td>\n",
       "      <td>2000-07-30 19:03:35</td>\n",
       "      <td>Seven (a.k.a. Se7en) (1995)</td>\n",
       "      <td>[Mystery, Thriller]</td>\n",
       "      <td>2000</td>\n",
       "    </tr>\n",
       "    <tr>\n",
       "      <th>4</th>\n",
       "      <td>1</td>\n",
       "      <td>50</td>\n",
       "      <td>5.0</td>\n",
       "      <td>2000-07-30 18:48:51</td>\n",
       "      <td>Usual Suspects, The (1995)</td>\n",
       "      <td>[Crime, Mystery, Thriller]</td>\n",
       "      <td>2000</td>\n",
       "    </tr>\n",
       "  </tbody>\n",
       "</table>\n",
       "</div>"
      ],
      "text/plain": [
       "   userId  movieId  rating           timestamp                        title  \\\n",
       "0       1        1     4.0 2000-07-30 18:45:03             Toy Story (1995)   \n",
       "1       1        3     4.0 2000-07-30 18:20:47      Grumpier Old Men (1995)   \n",
       "2       1        6     4.0 2000-07-30 18:37:04                  Heat (1995)   \n",
       "3       1       47     5.0 2000-07-30 19:03:35  Seven (a.k.a. Se7en) (1995)   \n",
       "4       1       50     5.0 2000-07-30 18:48:51   Usual Suspects, The (1995)   \n",
       "\n",
       "                                              genres  year  \n",
       "0  [Adventure, Animation, Children, Comedy, Fantasy]  2000  \n",
       "1                                  [Comedy, Romance]  2000  \n",
       "2                          [Action, Crime, Thriller]  2000  \n",
       "3                                [Mystery, Thriller]  2000  \n",
       "4                         [Crime, Mystery, Thriller]  2000  "
      ]
     },
     "execution_count": 33,
     "metadata": {},
     "output_type": "execute_result"
    }
   ],
   "source": [
    "data2.head()"
   ]
  },
  {
   "cell_type": "markdown",
   "metadata": {},
   "source": [
    "### SPLITTING DATA BEFORE PREPROCESSING & MODELING\n",
    "\n",
    "Before preprocessing, we split the data to ensure preprocessing and any other changes are made only on the training set. This is to ensure the test set remains untouched, serving as a true representation of unseen data.\n",
    "\n",
    "\n",
    "Later, the test set will passed through the preprocessing pipeline. This approach also works to prevent data leakage."
   ]
  },
  {
   "cell_type": "code",
   "execution_count": 34,
   "metadata": {},
   "outputs": [],
   "source": [
    "# Split before any preprocessing (80% train, 20% test)\n",
    "train_data, test_data = train_test_split(data2, test_size=0.2, random_state=42)"
   ]
  },
  {
   "cell_type": "markdown",
   "metadata": {},
   "source": [
    "### PREPROCESSING PIPELINE"
   ]
  },
  {
   "cell_type": "code",
   "execution_count": 35,
   "metadata": {},
   "outputs": [],
   "source": [
    "#drop unnecessary columns\n",
    "class DropColumns(BaseEstimator, TransformerMixin):\n",
    "    def __init__(self, columns):\n",
    "        self.columns = columns  #storing the dropped columns\n",
    "\n",
    "    def fit(self, X, y=None):\n",
    "        return self  #no fitting, just return self\n",
    "\n",
    "    def transform(self, X):\n",
    "        return X.drop(columns=self.columns, errors='ignore') #drop the specified columns\n",
    "\n",
    "    \n",
    "    \n",
    "#encoding the userId and movieId columns\n",
    "class EncodeIDs(BaseEstimator, TransformerMixin):\n",
    "    def __init__(self):\n",
    "        self.user_encoder = LabelEncoder()  #Initialize LabelEncoder for userId\n",
    "        self.movie_encoder = LabelEncoder()   #Initialize LabelEncoder for movieId\n",
    "\n",
    "    def fit(self, X, y=None):\n",
    "        self.user_encoder.fit(X['userId'])   #Fit encoder on userId\n",
    "        self.movie_encoder.fit(X['movieId'])  #Fit encoder on movieId\n",
    "        return self     #return the fitted instance\n",
    "\n",
    "    def transform(self, X):\n",
    "        X = X.copy()\n",
    "        X['userId_enc'] = X['userId'].apply(lambda x: self.user_encoder.transform([x])[0] if x in self.user_encoder.classes_ else -1)\n",
    "        X['movieId_enc'] = X['movieId'].apply(lambda x: self.movie_encoder.transform([x])[0] if x in self.movie_encoder.classes_ else -1)\n",
    "        return X[['userId_enc', 'movieId_enc', 'rating']]  # Keep only necessary columns\n",
    "\n",
    "    \n",
    "#creating a user-movie interaction matrix\n",
    "class InteractionMatrix(BaseEstimator, TransformerMixin):\n",
    "    def fit(self, X, y=None):\n",
    "        return self   #nothing to fit\n",
    "\n",
    "    def transform(self, X):\n",
    "        interaction_matrix = X.pivot_table(index='userId_enc', columns='movieId_enc', values='rating')\n",
    "        return interaction_matrix    #return the matrix"
   ]
  },
  {
   "cell_type": "code",
   "execution_count": 36,
   "metadata": {},
   "outputs": [],
   "source": [
    "#define the preprocessing pipeline\n",
    "preprocessing_pipeline = Pipeline([\n",
    "    ('drop_columns', DropColumns(columns=['title', 'genre', 'timestamp', 'year'])), #columns to be dropped\n",
    "    ('encode_ids', EncodeIDs()),  #encode user and movie id columns\n",
    "    ('interaction_matrix', InteractionMatrix())  #create the interaction matrix\n",
    "])"
   ]
  },
  {
   "cell_type": "code",
   "execution_count": 37,
   "metadata": {},
   "outputs": [
    {
     "name": "stdout",
     "output_type": "stream",
     "text": [
      "(610, 8983)\n",
      "movieId_enc  0     1     2     3     4     5     6     7     8     9     ...  \\\n",
      "userId_enc                                                               ...   \n",
      "0             4.0   NaN   4.0   NaN   NaN   4.0   NaN   NaN   NaN   NaN  ...   \n",
      "1             NaN   NaN   NaN   NaN   NaN   NaN   NaN   NaN   NaN   NaN  ...   \n",
      "2             NaN   NaN   NaN   NaN   NaN   NaN   NaN   NaN   NaN   NaN  ...   \n",
      "3             NaN   NaN   NaN   NaN   NaN   NaN   NaN   NaN   NaN   NaN  ...   \n",
      "4             NaN   NaN   NaN   NaN   NaN   NaN   NaN   NaN   NaN   NaN  ...   \n",
      "\n",
      "movieId_enc  8973  8974  8975  8976  8977  8978  8979  8980  8981  8982  \n",
      "userId_enc                                                               \n",
      "0             NaN   NaN   NaN   NaN   NaN   NaN   NaN   NaN   NaN   NaN  \n",
      "1             NaN   NaN   NaN   NaN   NaN   NaN   NaN   NaN   NaN   NaN  \n",
      "2             NaN   NaN   NaN   NaN   NaN   NaN   NaN   NaN   NaN   NaN  \n",
      "3             NaN   NaN   NaN   NaN   NaN   NaN   NaN   NaN   NaN   NaN  \n",
      "4             NaN   NaN   NaN   NaN   NaN   NaN   NaN   NaN   NaN   NaN  \n",
      "\n",
      "[5 rows x 8983 columns]\n"
     ]
    }
   ],
   "source": [
    "#apply the pipeline to the training data\n",
    "matrix_train = preprocessing_pipeline.fit_transform(train_data)\n",
    "\n",
    "#check the processed interaction matrix\n",
    "print(matrix_train.shape)  # To see the matrix dimensions\n",
    "print(matrix_train.head())  # Preview the top rows"
   ]
  },
  {
   "cell_type": "markdown",
   "metadata": {},
   "source": [
    "Below, we apply the preprocessing pipeline to the test set. We apply only the transformations to the test data without fitting."
   ]
  },
  {
   "cell_type": "code",
   "execution_count": 38,
   "metadata": {},
   "outputs": [
    {
     "name": "stdout",
     "output_type": "stream",
     "text": [
      "(610, 4402)\n",
      "movieId_enc  -1      0      1      2      3      4      5      6      7     \\\n",
      "userId_enc                                                                   \n",
      "0              NaN    NaN    NaN    NaN    NaN    NaN    NaN    NaN    NaN   \n",
      "1              NaN    NaN    NaN    NaN    NaN    NaN    NaN    NaN    NaN   \n",
      "2              4.5    NaN    NaN    NaN    NaN    NaN    NaN    NaN    NaN   \n",
      "3              2.0    NaN    NaN    NaN    NaN    NaN    NaN    NaN    NaN   \n",
      "4              NaN    4.0    NaN    NaN    NaN    NaN    NaN    NaN    NaN   \n",
      "\n",
      "movieId_enc   8     ...   8898   8900   8904   8907   8909   8917   8930  \\\n",
      "userId_enc          ...                                                    \n",
      "0              NaN  ...    NaN    NaN    NaN    NaN    NaN    NaN    NaN   \n",
      "1              NaN  ...    NaN    NaN    NaN    NaN    NaN    NaN    NaN   \n",
      "2              NaN  ...    NaN    NaN    NaN    NaN    NaN    NaN    NaN   \n",
      "3              NaN  ...    NaN    NaN    NaN    NaN    NaN    NaN    NaN   \n",
      "4              NaN  ...    NaN    NaN    NaN    NaN    NaN    NaN    NaN   \n",
      "\n",
      "movieId_enc   8950   8954   8964  \n",
      "userId_enc                        \n",
      "0              NaN    NaN    NaN  \n",
      "1              NaN    NaN    NaN  \n",
      "2              NaN    NaN    NaN  \n",
      "3              NaN    NaN    NaN  \n",
      "4              NaN    NaN    NaN  \n",
      "\n",
      "[5 rows x 4402 columns]\n"
     ]
    }
   ],
   "source": [
    "#transform the test set using the trained pipeline (without fitting)\n",
    "matrix_test = preprocessing_pipeline.transform(test_data)\n",
    "\n",
    "#check the processed test set matrix\n",
    "print(matrix_test.shape)\n",
    "print(matrix_test.head())"
   ]
  },
  {
   "cell_type": "markdown",
   "metadata": {},
   "source": [
    "## MODELING & EVALUATION"
   ]
  },
  {
   "cell_type": "markdown",
   "metadata": {},
   "source": [
    "To begin modeling, we converted the processed data to Surprise's required format."
   ]
  },
  {
   "cell_type": "code",
   "execution_count": 39,
   "metadata": {},
   "outputs": [],
   "source": [
    "#define the rating scale based on the dataset\n",
    "reader = Reader(rating_scale=(0, 5))\n",
    "\n",
    "#convert the interaction matrices back to DataFrame for Surprise\n",
    "matrix_train = matrix_train.stack().reset_index()\n",
    "matrix_train.columns = ['userId_enc', 'movieId_enc', 'rating']\n",
    "\n",
    "matrix_test = matrix_test.stack().reset_index()\n",
    "matrix_test.columns = ['userId_enc', 'movieId_enc', 'rating']\n",
    "\n",
    "#load into Surprise dataset format\n",
    "trainset = Dataset.load_from_df(matrix_train[['userId_enc', 'movieId_enc', 'rating']], reader).build_full_trainset()\n",
    "testset = Dataset.load_from_df(matrix_test[['userId_enc', 'movieId_enc', 'rating']], reader)"
   ]
  },
  {
   "cell_type": "markdown",
   "metadata": {},
   "source": [
    "### BASELINE MODEL"
   ]
  },
  {
   "cell_type": "code",
   "execution_count": 40,
   "metadata": {},
   "outputs": [],
   "source": [
    "testset = list(matrix_test.itertuples(index=False, name=None))"
   ]
  },
  {
   "cell_type": "code",
   "execution_count": 42,
   "metadata": {},
   "outputs": [
    {
     "name": "stdout",
     "output_type": "stream",
     "text": [
      "RMSE: 0.8855\n",
      "MAE:  0.6768\n",
      "Baseline RMSE: 0.8854999286817727\n",
      "Baseline MAE: 0.6768416189880477\n"
     ]
    }
   ],
   "source": [
    "#initialize and train the SVD model(this is our baseline)\n",
    "model = SVD()   \n",
    "model.fit(trainset)   #trains the SVD model on the trainset\n",
    "\n",
    "\n",
    "#predictions on the test set\n",
    "predictions = model.test(testset)   #the tuples of the test set prepared above\n",
    "\n",
    "\n",
    "#evaluate the model performance\n",
    "rmse = accuracy.rmse(predictions)\n",
    "mae = accuracy.mae(predictions)\n",
    "\n",
    "print(f\"Baseline RMSE: {rmse}\")\n",
    "print(f\"Baseline MAE: {mae}\")"
   ]
  },
  {
   "cell_type": "markdown",
   "metadata": {},
   "source": [
    "A **lower RMSE** value means better performance because it indicates **smaller differences between predicted and actual ratings**.\n",
    "In this case, an RMSE of 0.8855 means that the predicted movie ratings deviate from the actual ratings by around 0.88 rating points, considering squared errors.\n",
    "\n",
    "Since the movie ratings  range from 0 to 5, an RMSE of 0.88 means the model is doing a **reasonable** job but still **has some room for improvement**. If the RMSE were closer to 0, it would mean near-perfect predictions. Values above 1 would indicate higher deviations, meaning less accuracy.\n",
    "\n",
    "\n",
    "An MAE of 0.6768 means that, on average, the model's predictions are **off by around 0.67 rating points** from the actual ratings. Lower values indicate better model accuracy. In this case, an MAE of 0.67 suggests the model is **fairly accurate but still can be improved** to minimize prediction errors further.\n",
    "\n",
    "\n",
    "Overall the model is performing fairly well, with prediction errors under 1 and while the initial results are decent, there's room for improvement through hyperparameter tuning and optimization."
   ]
  },
  {
   "cell_type": "markdown",
   "metadata": {},
   "source": [
    "### OPTIMIZATION I\n",
    "In this setion, we'll optimize the SVD model's performance by tuning its hyperparameters using **GridSearchCV**."
   ]
  },
  {
   "cell_type": "code",
   "execution_count": 43,
   "metadata": {},
   "outputs": [
    {
     "name": "stdout",
     "output_type": "stream",
     "text": [
      "Best RMSE Parameters: {'n_factors': 5, 'n_epochs': 10, 'lr_all': 0.01, 'reg_all': 0.02}\n",
      "Best RMSE Score: 0.8795363842060014\n"
     ]
    }
   ],
   "source": [
    "#define the parameter grid\n",
    "param_grid = {\n",
    "    'n_factors': [5, 10, 15],   #no. of latent features.\n",
    "    'n_epochs': [2, 5, 10],   #no. of iterations during training.\n",
    "    'lr_all': [0.002, 0.005, 0.01], #learning rate for all parameters.\n",
    "    'reg_all': [0.02, 0.1, 0.2]   #regularization term to prevent overfitting.\n",
    "}\n",
    "\n",
    "#initialize GridSearchCV\n",
    "#test different combos of the parameters and select the best-performing one based on the evaluation metrics.\n",
    "grid_search = GridSearchCV(SVD, param_grid, measures=['rmse', 'mae'], cv=3, n_jobs=-1)\n",
    "\n",
    "#fit on the training set\n",
    "#train multiple SVD models with different combinations of hyperparameters and evaluates them.\n",
    "grid_search.fit(Dataset.load_from_df(matrix_train[['userId_enc', 'movieId_enc', 'rating']], reader))\n",
    "\n",
    "#best parameters and scores\n",
    "best_params = grid_search.best_params['rmse']   #retrieves the hyperparameter combination that achieved the lowest RMSE.\n",
    "best_score = grid_search.best_score['rmse']   #retrieves the best (lowest) RMSE score from all tested combinations.\n",
    "\n",
    "print(f\"Best RMSE Parameters: {best_params}\")\n",
    "print(f\"Best RMSE Score: {best_score}\")"
   ]
  },
  {
   "cell_type": "markdown",
   "metadata": {},
   "source": [
    "**Interpretating our first optimization step.**\n",
    "\n",
    "- **n_factors: 5** → The best model uses 5 latent features to represent user and movie relationships.\n",
    "\n",
    "- **n_epochs: 10** → The model performs best when trained for 10 iterations.\n",
    "\n",
    "- **lr_all: 0.01** → The best learning rate for all parameters is 0.01.\n",
    "\n",
    "- **reg_all: 0.02** → The best regularization term to prevent overfitting is 0.02.\n",
    "\n",
    "\n",
    "The **best RMSE score obtained during cross-validation is 0.8795**, meaning that the model's average prediction error is 0.87 rating points away from the actual ratings in the training data."
   ]
  },
  {
   "cell_type": "markdown",
   "metadata": {},
   "source": [
    "Here, we train the model using the best hyperparameters we found above."
   ]
  },
  {
   "cell_type": "code",
   "execution_count": 44,
   "metadata": {},
   "outputs": [
    {
     "data": {
      "text/plain": [
       "<surprise.prediction_algorithms.matrix_factorization.SVD at 0x15d16be6af0>"
      ]
     },
     "execution_count": 44,
     "metadata": {},
     "output_type": "execute_result"
    }
   ],
   "source": [
    "#extract the best hyperparameters from the grid search\n",
    "best_model_params = grid_search.best_params['rmse']\n",
    "\n",
    "#initialize the SVD model with the best hyperparameters\n",
    "opt1_model = SVD(n_factors=best_model_params['n_factors'], \n",
    "                  n_epochs=best_model_params['n_epochs'], \n",
    "                  lr_all=best_model_params['lr_all'], \n",
    "                  reg_all=best_model_params['reg_all'])\n",
    "\n",
    "#train the final model on the entire training set\n",
    "opt1_model.fit(trainset)"
   ]
  },
  {
   "cell_type": "code",
   "execution_count": 45,
   "metadata": {},
   "outputs": [
    {
     "name": "stdout",
     "output_type": "stream",
     "text": [
      "RMSE: 0.8911\n",
      "MAE:  0.6796\n",
      "Optimization I RMSE: 0.8910951022741277\n",
      "Optimization I MAE: 0.6796376338220568\n"
     ]
    }
   ],
   "source": [
    "#predict on the test set using the trained model\n",
    "opt1_predictions = opt1_model.test(testset)\n",
    "\n",
    "#evaluate the model performance on the test set\n",
    "opt1_rmse = accuracy.rmse(opt1_predictions)\n",
    "opt1_mae = accuracy.mae(opt1_predictions)\n",
    "\n",
    "print(f\"Optimization I RMSE: {opt1_rmse}\")\n",
    "print(f\"Optimization I MAE: {opt1_mae}\")"
   ]
  },
  {
   "cell_type": "markdown",
   "metadata": {},
   "source": [
    "The RMSE of the tuned model is **slightly higher (0.8911) than the baseline RMSE (0.8855)**, meaning the tuned model's predictions have slightly larger errors compared to the baseline. Ideally, RMSE should be lower after tuning, indicating better performance, but in this case, the increase suggests that tuning didn't improve the model as expected and **may have led to overfitting**.\n",
    "\n",
    "Additionally, the tuned model's MAE (0.6796) is slightly higher than the baseline (0.6768), indicating that the absolute prediction error has also increased. With this MAE being close to the baseline value means the model isn't significantly worse, but it also doesn't show improvement.\n",
    "\n",
    "**Therefore, in this case, tuning with GridSearchCV didn't improve our model since the tuned model performed slightly worse than the baseline model, which suggests that the original hyperparameters might have been closer to optimal, or the tuning process overfit the training data**.\n",
    "\n",
    "So, below we'll try a different tuning approach"
   ]
  },
  {
   "cell_type": "markdown",
   "metadata": {},
   "source": [
    "### OPTIMIZATION II\n",
    "Trying a Different Parameter Tuning Approach - using RandomizedSearchCV."
   ]
  },
  {
   "cell_type": "code",
   "execution_count": 46,
   "metadata": {},
   "outputs": [
    {
     "name": "stdout",
     "output_type": "stream",
     "text": [
      "Best RMSE Params: {'n_factors': 10, 'n_epochs': 20, 'lr_all': 0.005, 'reg_all': 0.02}\n",
      "Best RMSE Score: 0.8761547524492181\n"
     ]
    }
   ],
   "source": [
    "#define parameters\n",
    "param_dist = {\n",
    "    'n_factors': [10, 20, 50],\n",
    "    'n_epochs': [10, 20],\n",
    "    'lr_all': [0.002, 0.005, 0.01],\n",
    "    'reg_all': [0.02, 0.05, 0.1]\n",
    "}\n",
    "\n",
    "#initialize and run RandomizedSearchCV\n",
    "random_search = RandomizedSearchCV(SVD, param_dist, n_iter=10, measures=['rmse', 'mae'], cv=3, n_jobs=-1, random_state=42)\n",
    "random_search.fit(Dataset.load_from_df(matrix_train[['userId_enc', 'movieId_enc', 'rating']], reader))\n",
    "\n",
    "#print best parameters\n",
    "print(\"Best RMSE Params:\", random_search.best_params['rmse'])\n",
    "print(\"Best RMSE Score:\", random_search.best_score['rmse'])"
   ]
  },
  {
   "cell_type": "code",
   "execution_count": 47,
   "metadata": {},
   "outputs": [
    {
     "name": "stdout",
     "output_type": "stream",
     "text": [
      "RMSE: 0.8838\n",
      "MAE:  0.6741\n",
      "Optimization II RMSE: 0.8837715035039327\n",
      "Optimization II MAE: 0.6741281347847476\n"
     ]
    }
   ],
   "source": [
    "#extract the best parameters from RandomizedSearchCV\n",
    "best_params = random_search.best_params['rmse']\n",
    "\n",
    "#initialize the SVD model with the best parameters\n",
    "opt2_model = SVD(\n",
    "    n_factors=best_params['n_factors'],\n",
    "    n_epochs=best_params['n_epochs'],\n",
    "    lr_all=best_params['lr_all'],\n",
    "    reg_all=best_params['reg_all']\n",
    ")\n",
    "\n",
    "#erain the mode\n",
    "opt2_model.fit(trainset)\n",
    "\n",
    "#make predictions on the test data\n",
    "opt2_predictions = opt2_model.test(testset)\n",
    "\n",
    "#evaluate the optimized model's performance\n",
    "opt2_rmse = accuracy.rmse(opt2_predictions)\n",
    "opt2_mae = accuracy.mae(opt2_predictions)\n",
    "\n",
    "print(f\"Optimization II RMSE: {opt2_rmse}\")\n",
    "print(f\"Optimization II MAE: {opt2_mae}\")"
   ]
  },
  {
   "cell_type": "markdown",
   "metadata": {},
   "source": [
    "The **RMSE** from RandomizedSearchCV is **0.8821**, which is **lower** than the RMSE from GridSearchCV, which was 0.8911.\n",
    "A lower RMSE indicates that the predictions from the model are closer to the actual ratings on average.\n",
    "\n",
    "The **MAE** from RandomizedSearchCV is **0.6742**, slightly better than the MAE from GridSearchCV, which was 0.6795. This indicates a smaller average error in absolute terms when using RandomizedSearchCV.\n",
    "\n",
    "So, there has been **a slight improvement with the parameters found using RandomizedSearchCV compared to those from GridSearchCV**. Both RMSE and MAE are slightly lower, which indicates that the model's predictions are more accurate this time. The small but noticeable improvement suggests that the optimized hyperparameters found by RandomizedSearchCV are better suited for the dataset and task at hand than those found by GridSearchCV."
   ]
  },
  {
   "cell_type": "markdown",
   "metadata": {},
   "source": [
    "### PRECISION FOR BOTH OPTIMIZATIONS"
   ]
  },
  {
   "cell_type": "code",
   "execution_count": 48,
   "metadata": {},
   "outputs": [
    {
     "name": "stdout",
     "output_type": "stream",
     "text": [
      "Precision for First Optimization: 0.8009\n",
      "Precision for Second Optimization: 0.8130\n"
     ]
    }
   ],
   "source": [
    "#define a threshold for relevant recommendations\n",
    "threshold = 4.0\n",
    "\n",
    "def calculate_precision(predictions, threshold):\n",
    "    #count true positives (relevant recommendations)\n",
    "    relevant_recommendations = sum((pred.est >= threshold) and (pred.r_ui >= threshold) for pred in predictions)\n",
    "    \n",
    "    #count total recommendations made\n",
    "    total_recommendations = sum(pred.est >= threshold for pred in predictions)\n",
    "    \n",
    "    #calculate precision\n",
    "    precision = relevant_recommendations / total_recommendations if total_recommendations > 0 else 0\n",
    "    return precision\n",
    "\n",
    "#precision for first optimization (GridSearchCV)\n",
    "precision_optimization1 = calculate_precision(opt1_predictions, threshold)\n",
    "\n",
    "#precision for second optimization (RandomizedSearchCV)\n",
    "precision_optimization2 = calculate_precision(opt2_predictions, threshold)\n",
    "\n",
    "#results\n",
    "print(f\"Precision for First Optimization: {precision_optimization1:.4f}\")\n",
    "print(f\"Precision for Second Optimization: {precision_optimization2:.4f}\")"
   ]
  },
  {
   "cell_type": "markdown",
   "metadata": {},
   "source": [
    "The threshold for relevant recommendations was set at 4 meaning that we're defining \"relevant recommendations\" as movies that the system predicts will have a rating of 4 or higher since this score generally indicates that a user liked a movie.Therefore, for each predicted rating, we compare it to this threshold.\n",
    "\n",
    "So, if the **predicted rating ≥ 4**, we classify it as a recommended movie and if the **true rating ≥ 4** for the same movie, it's considered a **relevant recommendation**.\n",
    "\n",
    "Precision for the first optimization is 0.8009, meaning that about 80.09% of the movies the **model recommended** (those predicted to have a rating ≥ 4) were actually rated highly by the user (≥ 4). This precision score suggests that the model is doing **fairly well at recommending relevant movies**.\n",
    "\n",
    "Precision for the second optimization is 0.8130 meaning that about 81.30% of the **recommended movies were actually relevant, which is slightly better than the first optimization**.\n",
    "\n",
    "This **slight increase of about 0.9% in precision** indicates that the tuning of hyperparameters in the second optimization helped reduce the number of **false positives** (incorrectly recommended movies). While this improvement isn't massive, it's still valuable, especially in recommendation systems, where even a small increase in relevance can make a noticeable difference in user satisfaction."
   ]
  },
  {
   "cell_type": "markdown",
   "metadata": {},
   "source": [
    "### GENERATING TOP-5 RECOMMENDED MOVIES\n",
    "\n",
    "With our optimized model, we generated personalized recommendations for a user sample."
   ]
  },
  {
   "cell_type": "markdown",
   "metadata": {},
   "source": [
    "Here, the best hyperparameters from the RandomizedSearchCV were extracted, then we defined a function that takes a user_id, the model, and the trainset, and predicts ratings for all movies in the dataset for the given user. The function then sorts the predicted ratings in descending order and selects the top 5. It finally returns the top 5 movie IDs.\n",
    "\n",
    "So, a sample user_id is specified and the top-5 recommendations for that specific user are generated using the latest trained optimized model. The recommendations are in terms of movie IDs.\n",
    "\n",
    "With this fuction, we're able to replace the user_id with any user id inorder to generate personalized recommendations for that user."
   ]
  },
  {
   "cell_type": "code",
   "execution_count": 49,
   "metadata": {},
   "outputs": [
    {
     "name": "stdout",
     "output_type": "stream",
     "text": [
      "Best RMSE Params: {'n_factors': 10, 'n_epochs': 20, 'lr_all': 0.005, 'reg_all': 0.02}\n",
      "Best RMSE Score: 0.8761547524492181\n",
      "Top 5 Recommended Movies for User 1: [871, 660, 586, 896, 4673]\n"
     ]
    }
   ],
   "source": [
    "#these are the best parameters after running RandomizedSearchCV\n",
    "best_params = random_search.best_params['rmse']\n",
    "\n",
    "#print the best parameters and RMSE score\n",
    "print(\"Best RMSE Params:\", best_params)\n",
    "print(\"Best RMSE Score:\", random_search.best_score['rmse'])\n",
    "\n",
    "\n",
    "\n",
    "#use the best parameters from the previous step to create our model.\n",
    "model = SVD(n_factors=best_params['n_factors'],\n",
    "            n_epochs=best_params['n_epochs'],\n",
    "            lr_all=best_params['lr_all'],\n",
    "            reg_all=best_params['reg_all'], random_state=42)\n",
    "\n",
    "\n",
    "#train the model on the trainset\n",
    "model.fit(trainset)\n",
    "\n",
    "\n",
    "#function that recommends the top 5 movies for a given user based on their ratings\n",
    "def get_top_5_recommendations(user_id, model, trainset):\n",
    "    \n",
    "    #first, get all the movie IDs from the trainset\n",
    "    all_movie_ids = [iid for iid in trainset.all_items()]  #all_items() to give a list of all movie IDs\n",
    "\n",
    "    #predict the rating for all movies for the given user\n",
    "    predictions = []\n",
    "    for movie_id in all_movie_ids:\n",
    "        prediction = model.predict(user_id, movie_id)  #predict the rating for this user and movie\n",
    "        predictions.append(prediction)  #store the prediction in a list\n",
    "\n",
    "    #sort the predictions to find the movies the user is likely to rate the highest\n",
    "    sorted_predictions = sorted(predictions, key=lambda x: x.est, reverse=True)\n",
    "\n",
    "    #top 5 movies based on the sorted predictions\n",
    "    top_5_movies = [pred.iid for pred in sorted_predictions[:5]]\n",
    "\n",
    "    return top_5_movies  #return the list of top 5 movie IDs\n",
    "\n",
    "# a sample user\n",
    "sample_user_id = 1\n",
    "\n",
    "top_5_recommended_movies = get_top_5_recommendations(sample_user_id, model, trainset)\n",
    "\n",
    "#print the top-5 recommended movies for the sample user\n",
    "print(f\"Top 5 Recommended Movies for User {sample_user_id}: {top_5_recommended_movies}\")"
   ]
  },
  {
   "cell_type": "markdown",
   "metadata": {},
   "source": [
    "From the output above, based on user_id 1's past ratings, we would recommend the listed movie ids and since we have access to the original dataset, we can still be able to find out the movies' title and genre.  "
   ]
  },
  {
   "cell_type": "markdown",
   "metadata": {},
   "source": [
    "### Note on reproducibility and inconsistencies:\n",
    "\n",
    "**While efforts have been made throughout this notebook to fix the random seed and ensure reproducibility, slight variations may still occur due to factors like underlying library-specific behavior, which may not guarantee exact reproducibility across all environments. These factors may lead to minor differences in results (like the evaluation scores RMSE and precision) between code output and the markdown, even with the same random seed.**"
   ]
  },
  {
   "cell_type": "markdown",
   "metadata": {},
   "source": [
    "## CONCLUSION\n",
    "\n",
    "Based on the analysis and modeling conducted on the MovieLens dataset, we've gained valuable insights into user preferences, rating behaviors, and the effectiveness of recommendation models. Our exploratory data analysis highlighted key patterns in user engagement, genre preferences, and rating distributions. The recommendation system, optimized using collaborative filtering techniques, achieved a promising RMSE score indicating a reasonable level of accuracy. These findings provide actionable strategies to enhance movie recommendations, user experience, and business growth. Future improvements can further optimize the system to address challenges such as cold start problems and evolving user preferences."
   ]
  },
  {
   "cell_type": "markdown",
   "metadata": {},
   "source": [
    "## RECOMMENDATIONS"
   ]
  },
  {
   "cell_type": "markdown",
   "metadata": {},
   "source": [
    "**1. Personalized promotion strategies:**\n",
    "\n",
    "Focus marketing efforts on movies consistently rated above 4 and promote highly rated niche genres to attract dedicated audiences.\n",
    "\n",
    "\n",
    "**2. Genre-based content expansion:**\n",
    "\n",
    "Increase content acquisition and production in high-demand genres like drama, comedy, and action to align with user preferences.\n",
    "\n",
    "\n",
    "**3. User segmentation for targeted engagement:**\n",
    "\n",
    "Develop loyalty programs and premium recommendation services for highly active users who provide more stable and valuable feedback.\n",
    "\n",
    "\n",
    "**4. Peak engagement planning:**\n",
    "\n",
    "Leverage historical rating trends to schedule content releases and promotions during peak engagement periods to maximize impact.\n",
    "\n",
    "\n",
    "**5. Differentiated recommendation strategies:**\n",
    "\n",
    "Offer separate recommendation lists for \"popular\" and \"high-quality\" movies to cater to diverse user preferences and expectations.\n",
    "\n",
    "\n",
    "**6. Cold-start mitigation:**\n",
    "\n",
    "Introduce content-based filtering or hybrid models to enhance recommendations for new users with limited rating history."
   ]
  },
  {
   "cell_type": "markdown",
   "metadata": {},
   "source": [
    "## NEXT STEPS"
   ]
  },
  {
   "cell_type": "markdown",
   "metadata": {},
   "source": [
    "**- Build a hybrid recommendation model:** Combine collaborative and content-based filtering to improve accuracy and address limitations of individual approaches.\n",
    "\n",
    "\n",
    "**- Expand feature engineering:** Incorporate additional user and movie features, such as demographics, review text, and browsing history, to enrich the recommendation model.\n",
    "\n",
    "\n",
    "**- Deploy and monitor the system:** Implement the model in a real-world environment, track its performance over time, and continuously refine it based on user feedback and new data.\n",
    "\n",
    "\n",
    "**- Collect more data that is also diverse:** Collect additional data to improve the model robustness."
   ]
  }
 ],
 "metadata": {
  "kernelspec": {
   "display_name": "Python (learn-env)",
   "language": "python",
   "name": "learn-env"
  },
  "language_info": {
   "codemirror_mode": {
    "name": "ipython",
    "version": 3
   },
   "file_extension": ".py",
   "mimetype": "text/x-python",
   "name": "python",
   "nbconvert_exporter": "python",
   "pygments_lexer": "ipython3",
   "version": "3.8.5"
  }
 },
 "nbformat": 4,
 "nbformat_minor": 4
}
